{
 "cells": [
  {
   "cell_type": "markdown",
   "metadata": {},
   "source": [
    "import libraries"
   ]
  },
  {
   "cell_type": "code",
   "execution_count": 9,
   "metadata": {
    "collapsed": true
   },
   "outputs": [],
   "source": [
    "import tmdbsimple as tmdb\n",
    "import requests\n",
    "import pandas as pd\n",
    "import time\n",
    "from ast import literal_eval\n",
    "import imdb"
   ]
  },
  {
   "cell_type": "markdown",
   "metadata": {},
   "source": [
    "Skip the next 2 cells, as they only need to be run once."
   ]
  },
  {
   "cell_type": "code",
   "execution_count": 4,
   "metadata": {
    "collapsed": true
   },
   "outputs": [],
   "source": [
    "key = open('key.txt','r').read()\n",
    "payload = \"{}\"\n",
    "\n",
    "#this cell only needs to be run once\n",
    "\"\"\"\n",
    "movie_df = pd.DataFrame() #create empty dataframe to enable 'while loop' below\n",
    "\n",
    "page=1\n",
    "while movie_df.shape[0] < 1000:\n",
    "    url = \"https://api.themoviedb.org/3/movie/top_rated?api_key={0}&language=en-US&page={1}\".format(key, str(page))\n",
    "    response = requests.request(\"GET\", url, data=payload).json()\n",
    "    if page == 1: #initialize dataframe on first loop\n",
    "        movie_df = pd.DataFrame(response['results'])\n",
    "    else:\n",
    "        movie_df = movie_df.append(pd.DataFrame(response['results']))\n",
    "    \n",
    "    movie_df = movie_df[movie_df['original_language']=='en'] #remove non english movies\n",
    "    time.sleep(0.25) #rate limit is 4 pages per second\n",
    "    page+=1\n",
    "    \n",
    "movie_df.reset_index(inplace=True,drop=True) #reset index since we dropped non english rows\n",
    "\n",
    "#drop irrelevant columns for this analysis\n",
    "dropCols = ['adult','backdrop_path', 'original_language','original_title', 'poster_path','video']\n",
    "\n",
    "movie_df.drop(dropCols,axis=1,inplace=True)\n",
    "\n",
    "\"\"\""
   ]
  },
  {
   "cell_type": "markdown",
   "metadata": {},
   "source": [
    "**IMDB Mapping**"
   ]
  },
  {
   "cell_type": "code",
   "execution_count": 84,
   "metadata": {
    "collapsed": true
   },
   "outputs": [],
   "source": [
    "def tmdb_to_imdb(tmdb_id):\n",
    "    time.sleep(0.25) #rate limit is 4 requests per second\n",
    "    url = \"https://api.themoviedb.org/3/movie/{0}/external_ids?api_key={1}&language=en-US\".format(tmdb_id, key)\n",
    "    response = requests.request(\"GET\", url, data=payload).json()\n",
    "    if 'imdb_id' in response:\n",
    "        return response['imdb_id']\n",
    "    else:\n",
    "        return None\n"
   ]
  },
  {
   "cell_type": "code",
   "execution_count": 119,
   "metadata": {
    "collapsed": true
   },
   "outputs": [],
   "source": [
    "#this cell only has to be run once\n",
    "\"\"\"\n",
    "movie_df['imdb_id'] = movie_df['id'].apply(lambda x: tmdb_to_imdb(x))\n",
    "movie_df.to_csv('data\\movie_df.csv',encoding=\"utf-8\",index=False)\n",
    "\"\"\""
   ]
  },
  {
   "cell_type": "code",
   "execution_count": 2,
   "metadata": {
    "collapsed": true
   },
   "outputs": [],
   "source": [
    "movie_df = pd.read_csv('data\\movie_df.csv',encoding=\"utf-8\",converters={'genre_ids':literal_eval})"
   ]
  },
  {
   "cell_type": "code",
   "execution_count": 120,
   "metadata": {},
   "outputs": [
    {
     "data": {
      "text/html": [
       "<div>\n",
       "<style>\n",
       "    .dataframe thead tr:only-child th {\n",
       "        text-align: right;\n",
       "    }\n",
       "\n",
       "    .dataframe thead th {\n",
       "        text-align: left;\n",
       "    }\n",
       "\n",
       "    .dataframe tbody tr th {\n",
       "        vertical-align: top;\n",
       "    }\n",
       "</style>\n",
       "<table border=\"1\" class=\"dataframe\">\n",
       "  <thead>\n",
       "    <tr style=\"text-align: right;\">\n",
       "      <th></th>\n",
       "      <th>genre_ids</th>\n",
       "      <th>id</th>\n",
       "      <th>overview</th>\n",
       "      <th>popularity</th>\n",
       "      <th>release_date</th>\n",
       "      <th>title</th>\n",
       "      <th>vote_average</th>\n",
       "      <th>vote_count</th>\n",
       "      <th>imdb_id</th>\n",
       "    </tr>\n",
       "  </thead>\n",
       "  <tbody>\n",
       "    <tr>\n",
       "      <th>0</th>\n",
       "      <td>[18, 80]</td>\n",
       "      <td>278</td>\n",
       "      <td>Framed in the 1940s for the double murder of h...</td>\n",
       "      <td>28.527767</td>\n",
       "      <td>1994-09-23</td>\n",
       "      <td>The Shawshank Redemption</td>\n",
       "      <td>8.5</td>\n",
       "      <td>9773</td>\n",
       "      <td>tt0111161</td>\n",
       "    </tr>\n",
       "    <tr>\n",
       "      <th>1</th>\n",
       "      <td>[18, 80]</td>\n",
       "      <td>238</td>\n",
       "      <td>Spanning the years 1945 to 1955, a chronicle o...</td>\n",
       "      <td>36.965452</td>\n",
       "      <td>1972-03-14</td>\n",
       "      <td>The Godfather</td>\n",
       "      <td>8.5</td>\n",
       "      <td>7394</td>\n",
       "      <td>tt0068646</td>\n",
       "    </tr>\n",
       "    <tr>\n",
       "      <th>2</th>\n",
       "      <td>[18, 36, 10752]</td>\n",
       "      <td>424</td>\n",
       "      <td>The true story of how businessman Oskar Schind...</td>\n",
       "      <td>19.945455</td>\n",
       "      <td>1993-11-29</td>\n",
       "      <td>Schindler's List</td>\n",
       "      <td>8.4</td>\n",
       "      <td>5518</td>\n",
       "      <td>tt0108052</td>\n",
       "    </tr>\n",
       "    <tr>\n",
       "      <th>3</th>\n",
       "      <td>[18, 80]</td>\n",
       "      <td>240</td>\n",
       "      <td>In the continuing saga of the Corleone crime f...</td>\n",
       "      <td>30.191804</td>\n",
       "      <td>1974-12-20</td>\n",
       "      <td>The Godfather: Part II</td>\n",
       "      <td>8.4</td>\n",
       "      <td>4249</td>\n",
       "      <td>tt0071562</td>\n",
       "    </tr>\n",
       "    <tr>\n",
       "      <th>4</th>\n",
       "      <td>[18, 9648]</td>\n",
       "      <td>452522</td>\n",
       "      <td>Standalone version of the series pilot with an...</td>\n",
       "      <td>5.969249</td>\n",
       "      <td>1989-12-31</td>\n",
       "      <td>Twin Peaks</td>\n",
       "      <td>8.4</td>\n",
       "      <td>123</td>\n",
       "      <td>tt0278784</td>\n",
       "    </tr>\n",
       "  </tbody>\n",
       "</table>\n",
       "</div>"
      ],
      "text/plain": [
       "         genre_ids      id                                           overview  \\\n",
       "0         [18, 80]     278  Framed in the 1940s for the double murder of h...   \n",
       "1         [18, 80]     238  Spanning the years 1945 to 1955, a chronicle o...   \n",
       "2  [18, 36, 10752]     424  The true story of how businessman Oskar Schind...   \n",
       "3         [18, 80]     240  In the continuing saga of the Corleone crime f...   \n",
       "4       [18, 9648]  452522  Standalone version of the series pilot with an...   \n",
       "\n",
       "   popularity release_date                     title  vote_average  \\\n",
       "0   28.527767   1994-09-23  The Shawshank Redemption           8.5   \n",
       "1   36.965452   1972-03-14             The Godfather           8.5   \n",
       "2   19.945455   1993-11-29          Schindler's List           8.4   \n",
       "3   30.191804   1974-12-20    The Godfather: Part II           8.4   \n",
       "4    5.969249   1989-12-31                Twin Peaks           8.4   \n",
       "\n",
       "   vote_count    imdb_id  \n",
       "0        9773  tt0111161  \n",
       "1        7394  tt0068646  \n",
       "2        5518  tt0108052  \n",
       "3        4249  tt0071562  \n",
       "4         123  tt0278784  "
      ]
     },
     "execution_count": 120,
     "metadata": {},
     "output_type": "execute_result"
    }
   ],
   "source": [
    "movie_df.head()"
   ]
  },
  {
   "cell_type": "markdown",
   "metadata": {},
   "source": [
    "Now we can use the imdb_id to get the imdb attributes for each movie"
   ]
  },
  {
   "cell_type": "code",
   "execution_count": 10,
   "metadata": {},
   "outputs": [],
   "source": [
    "imbd_object = imdb.IMDb()"
   ]
  },
  {
   "cell_type": "code",
   "execution_count": null,
   "metadata": {},
   "outputs": [],
   "source": []
  },
  {
   "cell_type": "markdown",
   "metadata": {},
   "source": [
    "**Genres**"
   ]
  },
  {
   "cell_type": "code",
   "execution_count": 7,
   "metadata": {},
   "outputs": [
    {
     "data": {
      "text/plain": [
       "{12: 'Adventure',\n",
       " 14: 'Fantasy',\n",
       " 16: 'Animation',\n",
       " 18: 'Drama',\n",
       " 27: 'Horror',\n",
       " 28: 'Action',\n",
       " 35: 'Comedy',\n",
       " 36: 'History',\n",
       " 37: 'Western',\n",
       " 53: 'Thriller',\n",
       " 80: 'Crime',\n",
       " 99: 'Documentary',\n",
       " 878: 'Science Fiction',\n",
       " 9648: 'Mystery',\n",
       " 10402: 'Music',\n",
       " 10749: 'Romance',\n",
       " 10751: 'Family',\n",
       " 10752: 'War',\n",
       " 10770: 'TV Movie'}"
      ]
     },
     "execution_count": 7,
     "metadata": {},
     "output_type": "execute_result"
    }
   ],
   "source": [
    "url = \"https://api.themoviedb.org/3/genre/movie/list?api_key={0}&language=en-US\".format(key)\n",
    "response = requests.request(\"GET\", url, data=payload).json()\n",
    "\n",
    "genreDict = dict(zip([i['id'] for i in response['genres']],\n",
    "                     [i['name'] for i in response['genres']]))\n",
    "\n",
    "genreDict"
   ]
  }
 ],
 "metadata": {
  "kernelspec": {
   "display_name": "Python 3",
   "language": "python",
   "name": "python3"
  },
  "language_info": {
   "codemirror_mode": {
    "name": "ipython",
    "version": 3
   },
   "file_extension": ".py",
   "mimetype": "text/x-python",
   "name": "python",
   "nbconvert_exporter": "python",
   "pygments_lexer": "ipython3",
   "version": "3.6.1"
  }
 },
 "nbformat": 4,
 "nbformat_minor": 2
}
