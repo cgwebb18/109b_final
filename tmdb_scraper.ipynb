{
 "cells": [
  {
   "cell_type": "markdown",
   "metadata": {},
   "source": [
    "import libraries"
   ]
  },
  {
   "cell_type": "code",
   "execution_count": 33,
   "metadata": {
    "collapsed": true
   },
   "outputs": [],
   "source": [
    "import tmdbsimple as tmdb\n",
    "import requests\n",
    "import pandas as pd\n",
    "import time"
   ]
  },
  {
   "cell_type": "markdown",
   "metadata": {},
   "source": [
    "Loop through 50 pages to create a dataframe of 1000 movies"
   ]
  },
  {
   "cell_type": "code",
   "execution_count": 62,
   "metadata": {},
   "outputs": [],
   "source": [
    "key = open('key.txt','r').read()\n",
    "payload = \"{}\"\n",
    "\n",
    "movie_df = pd.DataFrame() #create empty dataframe to enable 'while loop' below\n",
    "\n",
    "page=1\n",
    "while movie_df.shape[0] < 1000:\n",
    "    url = \"https://api.themoviedb.org/3/movie/top_rated?api_key={0}&language=en-US&page={1}\".format(key, str(page))\n",
    "    response = requests.request(\"GET\", url, data=payload).json()\n",
    "    if page == 1: #initialize dataframe on first loop\n",
    "        movie_df = pd.DataFrame(response['results'])\n",
    "    else:\n",
    "        movie_df = movie_df.append(pd.DataFrame(response['results']))\n",
    "    \n",
    "    movie_df = movie_df[movie_df['original_language']=='en'] #remove non english movies\n",
    "    time.sleep(0.25) #rate limit is 4 pages per second\n",
    "    page+=1\n",
    "    \n",
    "movie_df.reset_index(inplace=True,drop=True) #reset index since we dropped non english rows\n",
    "\n",
    "#drop irrelevant columns for this analysis\n",
    "dropCols = ['adult','backdrop_path', 'original_language','original_title', 'poster_path','video']\n",
    "\n",
    "movie_df.drop(dropCols,axis=1,inplace=True)"
   ]
  },
  {
   "cell_type": "code",
   "execution_count": 39,
   "metadata": {},
   "outputs": [
    {
     "data": {
      "text/html": [
       "<div>\n",
       "<style>\n",
       "    .dataframe thead tr:only-child th {\n",
       "        text-align: right;\n",
       "    }\n",
       "\n",
       "    .dataframe thead th {\n",
       "        text-align: left;\n",
       "    }\n",
       "\n",
       "    .dataframe tbody tr th {\n",
       "        vertical-align: top;\n",
       "    }\n",
       "</style>\n",
       "<table border=\"1\" class=\"dataframe\">\n",
       "  <thead>\n",
       "    <tr style=\"text-align: right;\">\n",
       "      <th></th>\n",
       "      <th>adult</th>\n",
       "      <th>backdrop_path</th>\n",
       "      <th>genre_ids</th>\n",
       "      <th>id</th>\n",
       "      <th>original_language</th>\n",
       "      <th>original_title</th>\n",
       "      <th>overview</th>\n",
       "      <th>popularity</th>\n",
       "      <th>poster_path</th>\n",
       "      <th>release_date</th>\n",
       "      <th>title</th>\n",
       "      <th>video</th>\n",
       "      <th>vote_average</th>\n",
       "      <th>vote_count</th>\n",
       "    </tr>\n",
       "  </thead>\n",
       "  <tbody>\n",
       "    <tr>\n",
       "      <th>0</th>\n",
       "      <td>False</td>\n",
       "      <td>/9ywA15OAiwjSTvg3cBs9B7kOCBF.jpg</td>\n",
       "      <td>[18, 10749]</td>\n",
       "      <td>337167</td>\n",
       "      <td>en</td>\n",
       "      <td>Fifty Shades Freed</td>\n",
       "      <td>Believing they have left behind shadowy figure...</td>\n",
       "      <td>566.277884</td>\n",
       "      <td>/jjPJ4s3DWZZvI4vw8Xfi4Vqa1Q8.jpg</td>\n",
       "      <td>2018-02-07</td>\n",
       "      <td>Fifty Shades Freed</td>\n",
       "      <td>False</td>\n",
       "      <td>6.1</td>\n",
       "      <td>1126</td>\n",
       "    </tr>\n",
       "    <tr>\n",
       "      <th>1</th>\n",
       "      <td>False</td>\n",
       "      <td>/mhdeE1yShHTaDbJVdWyTlzFvNkr.jpg</td>\n",
       "      <td>[16, 12, 10751, 35]</td>\n",
       "      <td>269149</td>\n",
       "      <td>en</td>\n",
       "      <td>Zootopia</td>\n",
       "      <td>Determined to prove herself, Officer Judy Hopp...</td>\n",
       "      <td>341.104188</td>\n",
       "      <td>/sM33SANp9z6rXW8Itn7NnG1GOEs.jpg</td>\n",
       "      <td>2016-02-11</td>\n",
       "      <td>Zootopia</td>\n",
       "      <td>False</td>\n",
       "      <td>7.7</td>\n",
       "      <td>6697</td>\n",
       "    </tr>\n",
       "    <tr>\n",
       "      <th>2</th>\n",
       "      <td>False</td>\n",
       "      <td>/ut3n6iLMF79vDqyKFU6PeojZZpQ.jpg</td>\n",
       "      <td>[28, 12, 14, 878]</td>\n",
       "      <td>284054</td>\n",
       "      <td>en</td>\n",
       "      <td>Black Panther</td>\n",
       "      <td>King T'Challa returns home from America to the...</td>\n",
       "      <td>248.787619</td>\n",
       "      <td>/uxzzxijgPIY7slzFvMotPv8wjKA.jpg</td>\n",
       "      <td>2018-02-13</td>\n",
       "      <td>Black Panther</td>\n",
       "      <td>False</td>\n",
       "      <td>7.4</td>\n",
       "      <td>3599</td>\n",
       "    </tr>\n",
       "    <tr>\n",
       "      <th>3</th>\n",
       "      <td>False</td>\n",
       "      <td>/c4Dw37VZjBmObmJw9bmt8IDwMZH.jpg</td>\n",
       "      <td>[28, 14, 12, 878]</td>\n",
       "      <td>181808</td>\n",
       "      <td>en</td>\n",
       "      <td>Star Wars: The Last Jedi</td>\n",
       "      <td>Rey develops her newly discovered abilities wi...</td>\n",
       "      <td>229.525757</td>\n",
       "      <td>/kOVEVeg59E0wsnXmF9nrh6OmWII.jpg</td>\n",
       "      <td>2017-12-13</td>\n",
       "      <td>Star Wars: The Last Jedi</td>\n",
       "      <td>False</td>\n",
       "      <td>7.1</td>\n",
       "      <td>4583</td>\n",
       "    </tr>\n",
       "    <tr>\n",
       "      <th>4</th>\n",
       "      <td>False</td>\n",
       "      <td>/askg3SMvhqEl4OL52YuvdtY40Yb.jpg</td>\n",
       "      <td>[12, 35, 10751, 16]</td>\n",
       "      <td>354912</td>\n",
       "      <td>en</td>\n",
       "      <td>Coco</td>\n",
       "      <td>Despite his family’s baffling generations-old ...</td>\n",
       "      <td>210.050883</td>\n",
       "      <td>/eKi8dIrr8voobbaGzDpe8w0PVbC.jpg</td>\n",
       "      <td>2017-10-27</td>\n",
       "      <td>Coco</td>\n",
       "      <td>False</td>\n",
       "      <td>7.8</td>\n",
       "      <td>3474</td>\n",
       "    </tr>\n",
       "  </tbody>\n",
       "</table>\n",
       "</div>"
      ],
      "text/plain": [
       "   adult                     backdrop_path            genre_ids      id  \\\n",
       "0  False  /9ywA15OAiwjSTvg3cBs9B7kOCBF.jpg          [18, 10749]  337167   \n",
       "1  False  /mhdeE1yShHTaDbJVdWyTlzFvNkr.jpg  [16, 12, 10751, 35]  269149   \n",
       "2  False  /ut3n6iLMF79vDqyKFU6PeojZZpQ.jpg    [28, 12, 14, 878]  284054   \n",
       "3  False  /c4Dw37VZjBmObmJw9bmt8IDwMZH.jpg    [28, 14, 12, 878]  181808   \n",
       "4  False  /askg3SMvhqEl4OL52YuvdtY40Yb.jpg  [12, 35, 10751, 16]  354912   \n",
       "\n",
       "  original_language            original_title  \\\n",
       "0                en        Fifty Shades Freed   \n",
       "1                en                  Zootopia   \n",
       "2                en             Black Panther   \n",
       "3                en  Star Wars: The Last Jedi   \n",
       "4                en                      Coco   \n",
       "\n",
       "                                            overview  popularity  \\\n",
       "0  Believing they have left behind shadowy figure...  566.277884   \n",
       "1  Determined to prove herself, Officer Judy Hopp...  341.104188   \n",
       "2  King T'Challa returns home from America to the...  248.787619   \n",
       "3  Rey develops her newly discovered abilities wi...  229.525757   \n",
       "4  Despite his family’s baffling generations-old ...  210.050883   \n",
       "\n",
       "                        poster_path release_date                     title  \\\n",
       "0  /jjPJ4s3DWZZvI4vw8Xfi4Vqa1Q8.jpg   2018-02-07        Fifty Shades Freed   \n",
       "1  /sM33SANp9z6rXW8Itn7NnG1GOEs.jpg   2016-02-11                  Zootopia   \n",
       "2  /uxzzxijgPIY7slzFvMotPv8wjKA.jpg   2018-02-13             Black Panther   \n",
       "3  /kOVEVeg59E0wsnXmF9nrh6OmWII.jpg   2017-12-13  Star Wars: The Last Jedi   \n",
       "4  /eKi8dIrr8voobbaGzDpe8w0PVbC.jpg   2017-10-27                      Coco   \n",
       "\n",
       "   video  vote_average  vote_count  \n",
       "0  False           6.1        1126  \n",
       "1  False           7.7        6697  \n",
       "2  False           7.4        3599  \n",
       "3  False           7.1        4583  \n",
       "4  False           7.8        3474  "
      ]
     },
     "execution_count": 39,
     "metadata": {},
     "output_type": "execute_result"
    }
   ],
   "source": [
    "movie_df.to_csv('data\\movie_df.csv',encoding=\"utf-8\",index=False)\n",
    "movie_df.head()"
   ]
  },
  {
   "cell_type": "markdown",
   "metadata": {},
   "source": [
    "**Genres**"
   ]
  },
  {
   "cell_type": "code",
   "execution_count": 53,
   "metadata": {},
   "outputs": [
    {
     "data": {
      "text/plain": [
       "{12: 'Adventure',\n",
       " 14: 'Fantasy',\n",
       " 16: 'Animation',\n",
       " 18: 'Drama',\n",
       " 27: 'Horror',\n",
       " 28: 'Action',\n",
       " 35: 'Comedy',\n",
       " 36: 'History',\n",
       " 37: 'Western',\n",
       " 53: 'Thriller',\n",
       " 80: 'Crime',\n",
       " 99: 'Documentary',\n",
       " 878: 'Science Fiction',\n",
       " 9648: 'Mystery',\n",
       " 10402: 'Music',\n",
       " 10749: 'Romance',\n",
       " 10751: 'Family',\n",
       " 10752: 'War',\n",
       " 10770: 'TV Movie'}"
      ]
     },
     "execution_count": 53,
     "metadata": {},
     "output_type": "execute_result"
    }
   ],
   "source": [
    "url = \"https://api.themoviedb.org/3/genre/movie/list?api_key={0}&language=en-US&page={1}\".format(key, str(page))\n",
    "response = requests.request(\"GET\", url, data=payload).json()\n",
    "\n",
    "genreDict = dict(zip([i['id'] for i in response['genres']],\n",
    "                     [i['name'] for i in response['genres']]))\n",
    "\n",
    "genreDict"
   ]
  },
  {
   "cell_type": "code",
   "execution_count": 60,
   "metadata": {},
   "outputs": [],
   "source": []
  },
  {
   "cell_type": "code",
   "execution_count": null,
   "metadata": {
    "collapsed": true
   },
   "outputs": [],
   "source": []
  }
 ],
 "metadata": {
  "kernelspec": {
   "display_name": "Python 3",
   "language": "python",
   "name": "python3"
  },
  "language_info": {
   "codemirror_mode": {
    "name": "ipython",
    "version": 3
   },
   "file_extension": ".py",
   "mimetype": "text/x-python",
   "name": "python",
   "nbconvert_exporter": "python",
   "pygments_lexer": "ipython3",
   "version": "3.6.1"
  }
 },
 "nbformat": 4,
 "nbformat_minor": 2
}
