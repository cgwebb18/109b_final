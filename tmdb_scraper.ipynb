{
 "cells": [
  {
   "cell_type": "markdown",
   "metadata": {},
   "source": [
    "import libraries"
   ]
  },
  {
   "cell_type": "code",
   "execution_count": 1,
   "metadata": {
    "collapsed": true
   },
   "outputs": [],
   "source": [
    "import tmdbsimple\n",
    "import requests\n",
    "import pandas as pd"
   ]
  },
  {
   "cell_type": "markdown",
   "metadata": {},
   "source": [
    "Loop through 50 pages to create a dataframe of 1000 movies"
   ]
  },
  {
   "cell_type": "code",
   "execution_count": 2,
   "metadata": {},
   "outputs": [],
   "source": [
    "key = open('key.txt','r').read()\n",
    "payload = \"{}\"\n",
    "for i in range(1,51):\n",
    "    url = \"https://api.themoviedb.org/3/movie/top_rated?api_key={0}&language=en-US&page={1}\".format(key, str(i))\n",
    "    response = requests.request(\"GET\", url, data=payload).json()\n",
    "    if i == 1:\n",
    "        movie_df = pd.DataFrame(response['results'])\n",
    "    else:\n",
    "        movie_df = movie_df.append(pd.DataFrame(response['results']))\n",
    "        "
   ]
  },
  {
   "cell_type": "code",
   "execution_count": 3,
   "metadata": {},
   "outputs": [
    {
     "data": {
      "text/html": [
       "<div>\n",
       "<style>\n",
       "    .dataframe thead tr:only-child th {\n",
       "        text-align: right;\n",
       "    }\n",
       "\n",
       "    .dataframe thead th {\n",
       "        text-align: left;\n",
       "    }\n",
       "\n",
       "    .dataframe tbody tr th {\n",
       "        vertical-align: top;\n",
       "    }\n",
       "</style>\n",
       "<table border=\"1\" class=\"dataframe\">\n",
       "  <thead>\n",
       "    <tr style=\"text-align: right;\">\n",
       "      <th></th>\n",
       "      <th>adult</th>\n",
       "      <th>backdrop_path</th>\n",
       "      <th>genre_ids</th>\n",
       "      <th>id</th>\n",
       "      <th>original_language</th>\n",
       "      <th>original_title</th>\n",
       "      <th>overview</th>\n",
       "      <th>popularity</th>\n",
       "      <th>poster_path</th>\n",
       "      <th>release_date</th>\n",
       "      <th>title</th>\n",
       "      <th>video</th>\n",
       "      <th>vote_average</th>\n",
       "      <th>vote_count</th>\n",
       "    </tr>\n",
       "  </thead>\n",
       "  <tbody>\n",
       "    <tr>\n",
       "      <th>0</th>\n",
       "      <td>False</td>\n",
       "      <td>/nl79FQ8xWZkhL3rDr1v2RFFR6J0.jpg</td>\n",
       "      <td>[35, 18, 10749]</td>\n",
       "      <td>19404</td>\n",
       "      <td>hi</td>\n",
       "      <td>Dilwale Dulhania Le Jayenge</td>\n",
       "      <td>Raj is a rich, carefree, happy-go-lucky second...</td>\n",
       "      <td>14.771240</td>\n",
       "      <td>/uC6TTUhPpQCmgldGyYveKRAu8JN.jpg</td>\n",
       "      <td>1995-10-20</td>\n",
       "      <td>The Big-Hearted Will Take Away the Bride</td>\n",
       "      <td>False</td>\n",
       "      <td>9.2</td>\n",
       "      <td>1234</td>\n",
       "    </tr>\n",
       "    <tr>\n",
       "      <th>1</th>\n",
       "      <td>False</td>\n",
       "      <td>/xBKGJQsAIeweesB79KC89FpBrVr.jpg</td>\n",
       "      <td>[18, 80]</td>\n",
       "      <td>278</td>\n",
       "      <td>en</td>\n",
       "      <td>The Shawshank Redemption</td>\n",
       "      <td>Framed in the 1940s for the double murder of h...</td>\n",
       "      <td>28.019826</td>\n",
       "      <td>/9O7gLzmreU0nGkIB6K3BsJbzvNv.jpg</td>\n",
       "      <td>1994-09-23</td>\n",
       "      <td>The Shawshank Redemption</td>\n",
       "      <td>False</td>\n",
       "      <td>8.5</td>\n",
       "      <td>9745</td>\n",
       "    </tr>\n",
       "    <tr>\n",
       "      <th>2</th>\n",
       "      <td>False</td>\n",
       "      <td>/6vkhRvsRvWpmaRVyCXaxTkIEb7j.jpg</td>\n",
       "      <td>[10749, 16, 18]</td>\n",
       "      <td>372058</td>\n",
       "      <td>ja</td>\n",
       "      <td>君の名は。</td>\n",
       "      <td>High schoolers Mitsuha and Taki are complete s...</td>\n",
       "      <td>20.293485</td>\n",
       "      <td>/xq1Ugd62d23K2knRUx6xxuALTZB.jpg</td>\n",
       "      <td>2016-08-26</td>\n",
       "      <td>Your Name.</td>\n",
       "      <td>False</td>\n",
       "      <td>8.5</td>\n",
       "      <td>2065</td>\n",
       "    </tr>\n",
       "    <tr>\n",
       "      <th>3</th>\n",
       "      <td>False</td>\n",
       "      <td>/6xKCYgH16UuwEGAyroLU6p8HLIn.jpg</td>\n",
       "      <td>[18, 80]</td>\n",
       "      <td>238</td>\n",
       "      <td>en</td>\n",
       "      <td>The Godfather</td>\n",
       "      <td>Spanning the years 1945 to 1955, a chronicle o...</td>\n",
       "      <td>40.090789</td>\n",
       "      <td>/rPdtLWNsZmAtoZl9PK7S2wE3qiS.jpg</td>\n",
       "      <td>1972-03-14</td>\n",
       "      <td>The Godfather</td>\n",
       "      <td>False</td>\n",
       "      <td>8.5</td>\n",
       "      <td>7331</td>\n",
       "    </tr>\n",
       "    <tr>\n",
       "      <th>4</th>\n",
       "      <td>False</td>\n",
       "      <td>/djgM2d3e42p9GFQObg6lwK2SVw2.jpg</td>\n",
       "      <td>[16, 10751, 14]</td>\n",
       "      <td>129</td>\n",
       "      <td>ja</td>\n",
       "      <td>千と千尋の神隠し</td>\n",
       "      <td>A young girl, Chihiro, becomes trapped in a st...</td>\n",
       "      <td>35.730324</td>\n",
       "      <td>/dL11DBPcRhWWnJcFXl9A07MrqTI.jpg</td>\n",
       "      <td>2001-07-20</td>\n",
       "      <td>Spirited Away</td>\n",
       "      <td>False</td>\n",
       "      <td>8.4</td>\n",
       "      <td>5001</td>\n",
       "    </tr>\n",
       "  </tbody>\n",
       "</table>\n",
       "</div>"
      ],
      "text/plain": [
       "   adult                     backdrop_path        genre_ids      id  \\\n",
       "0  False  /nl79FQ8xWZkhL3rDr1v2RFFR6J0.jpg  [35, 18, 10749]   19404   \n",
       "1  False  /xBKGJQsAIeweesB79KC89FpBrVr.jpg         [18, 80]     278   \n",
       "2  False  /6vkhRvsRvWpmaRVyCXaxTkIEb7j.jpg  [10749, 16, 18]  372058   \n",
       "3  False  /6xKCYgH16UuwEGAyroLU6p8HLIn.jpg         [18, 80]     238   \n",
       "4  False  /djgM2d3e42p9GFQObg6lwK2SVw2.jpg  [16, 10751, 14]     129   \n",
       "\n",
       "  original_language               original_title  \\\n",
       "0                hi  Dilwale Dulhania Le Jayenge   \n",
       "1                en     The Shawshank Redemption   \n",
       "2                ja                        君の名は。   \n",
       "3                en                The Godfather   \n",
       "4                ja                     千と千尋の神隠し   \n",
       "\n",
       "                                            overview  popularity  \\\n",
       "0  Raj is a rich, carefree, happy-go-lucky second...   14.771240   \n",
       "1  Framed in the 1940s for the double murder of h...   28.019826   \n",
       "2  High schoolers Mitsuha and Taki are complete s...   20.293485   \n",
       "3  Spanning the years 1945 to 1955, a chronicle o...   40.090789   \n",
       "4  A young girl, Chihiro, becomes trapped in a st...   35.730324   \n",
       "\n",
       "                        poster_path release_date  \\\n",
       "0  /uC6TTUhPpQCmgldGyYveKRAu8JN.jpg   1995-10-20   \n",
       "1  /9O7gLzmreU0nGkIB6K3BsJbzvNv.jpg   1994-09-23   \n",
       "2  /xq1Ugd62d23K2knRUx6xxuALTZB.jpg   2016-08-26   \n",
       "3  /rPdtLWNsZmAtoZl9PK7S2wE3qiS.jpg   1972-03-14   \n",
       "4  /dL11DBPcRhWWnJcFXl9A07MrqTI.jpg   2001-07-20   \n",
       "\n",
       "                                      title  video  vote_average  vote_count  \n",
       "0  The Big-Hearted Will Take Away the Bride  False           9.2        1234  \n",
       "1                  The Shawshank Redemption  False           8.5        9745  \n",
       "2                                Your Name.  False           8.5        2065  \n",
       "3                             The Godfather  False           8.5        7331  \n",
       "4                             Spirited Away  False           8.4        5001  "
      ]
     },
     "execution_count": 3,
     "metadata": {},
     "output_type": "execute_result"
    }
   ],
   "source": [
    "movie_df.head()"
   ]
  },
  {
   "cell_type": "code",
   "execution_count": 4,
   "metadata": {},
   "outputs": [
    {
     "data": {
      "text/plain": [
       "(1000, 14)"
      ]
     },
     "execution_count": 4,
     "metadata": {},
     "output_type": "execute_result"
    }
   ],
   "source": [
    "movie_df.shape"
   ]
  },
  {
   "cell_type": "code",
   "execution_count": null,
   "metadata": {
    "collapsed": true
   },
   "outputs": [],
   "source": []
  }
 ],
 "metadata": {
  "kernelspec": {
   "display_name": "Python 3",
   "language": "python",
   "name": "python3"
  },
  "language_info": {
   "codemirror_mode": {
    "name": "ipython",
    "version": 3
   },
   "file_extension": ".py",
   "mimetype": "text/x-python",
   "name": "python",
   "nbconvert_exporter": "python",
   "pygments_lexer": "ipython3",
   "version": "3.6.1"
  }
 },
 "nbformat": 4,
 "nbformat_minor": 2
}
