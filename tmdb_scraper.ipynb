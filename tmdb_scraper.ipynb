{
 "cells": [
  {
   "cell_type": "markdown",
   "metadata": {},
   "source": [
    "import libraries"
   ]
  },
  {
   "cell_type": "code",
   "execution_count": 1,
   "metadata": {
    "collapsed": true
   },
   "outputs": [],
   "source": [
    "import tmdbsimple as tmdb\n",
    "import requests\n",
    "import pandas as pd\n",
    "import time\n",
    "from ast import literal_eval\n",
    "import imdb"
   ]
  },
  {
   "cell_type": "markdown",
   "metadata": {},
   "source": [
    "Skip the next 2 cells, as they only need to be run once."
   ]
  },
  {
   "cell_type": "code",
   "execution_count": 99,
   "metadata": {},
   "outputs": [],
   "source": [
    "key = open('key.txt','r').read()\n",
    "payload = \"{}\"\n",
    "\n",
    "#this cell only needs to be run once\n",
    "\"\"\"\n",
    "movie_df = pd.DataFrame() #create empty dataframe to enable 'while loop' below\n",
    "\n",
    "page=1\n",
    "while movie_df.shape[0] < 1000:\n",
    "    url = \"https://api.themoviedb.org/3/movie/top_rated?api_key={0}&language=en-US&page={1}\".format(key, str(page))\n",
    "    response = requests.request(\"GET\", url, data=payload).json()\n",
    "    if page == 1: #initialize dataframe on first loop\n",
    "        movie_df = pd.DataFrame(response['results'])\n",
    "    else:\n",
    "        movie_df = movie_df.append(pd.DataFrame(response['results']))\n",
    "    \n",
    "    movie_df = movie_df[movie_df['original_language']=='en'] #remove non english movies\n",
    "    time.sleep(0.25) #rate limit is 4 pages per second\n",
    "    page+=1\n",
    "    \n",
    "movie_df.reset_index(inplace=True,drop=True) #reset index since we dropped non english rows\n",
    "\n",
    "#drop irrelevant columns for this analysis\n",
    "dropCols = ['adult','backdrop_path', 'original_language','original_title', 'poster_path','video']\n",
    "\n",
    "movie_df.drop(dropCols,axis=1,inplace=True)\n",
    "\n",
    "\"\"\""
   ]
  },
  {
   "cell_type": "markdown",
   "metadata": {},
   "source": [
    "**IMDB Mapping**"
   ]
  },
  {
   "cell_type": "code",
   "execution_count": 84,
   "metadata": {
    "collapsed": true
   },
   "outputs": [],
   "source": [
    "def tmdb_to_imdb(tmdb_id):\n",
    "    time.sleep(0.25) #rate limit is 4 requests per second\n",
    "    url = \"https://api.themoviedb.org/3/movie/{0}/external_ids?api_key={1}&language=en-US\".format(tmdb_id, key)\n",
    "    response = requests.request(\"GET\", url, data=payload).json()\n",
    "    if 'imdb_id' in response:\n",
    "        return response['imdb_id']\n",
    "    else:\n",
    "        return None\n"
   ]
  },
  {
   "cell_type": "code",
   "execution_count": 119,
   "metadata": {
    "collapsed": true
   },
   "outputs": [],
   "source": [
    "#this cell only has to be run once\n",
    "\"\"\"\n",
    "movie_df['imdb_id'] = movie_df['id'].apply(lambda x: tmdb_to_imdb(x))\n",
    "movie_df.to_csv('data\\movie_df.csv',encoding=\"utf-8\",index=False)\n",
    "\"\"\""
   ]
  },
  {
   "cell_type": "code",
   "execution_count": 2,
   "metadata": {
    "collapsed": true
   },
   "outputs": [],
   "source": [
    "movie_df = pd.read_csv('data\\movie_df.csv',encoding=\"utf-8\",converters={'genre_ids':literal_eval})"
   ]
  },
  {
   "cell_type": "code",
   "execution_count": 3,
   "metadata": {},
   "outputs": [
    {
     "data": {
      "text/html": [
       "<div>\n",
       "<style>\n",
       "    .dataframe thead tr:only-child th {\n",
       "        text-align: right;\n",
       "    }\n",
       "\n",
       "    .dataframe thead th {\n",
       "        text-align: left;\n",
       "    }\n",
       "\n",
       "    .dataframe tbody tr th {\n",
       "        vertical-align: top;\n",
       "    }\n",
       "</style>\n",
       "<table border=\"1\" class=\"dataframe\">\n",
       "  <thead>\n",
       "    <tr style=\"text-align: right;\">\n",
       "      <th></th>\n",
       "      <th>genre_ids</th>\n",
       "      <th>id</th>\n",
       "      <th>overview</th>\n",
       "      <th>popularity</th>\n",
       "      <th>release_date</th>\n",
       "      <th>title</th>\n",
       "      <th>vote_average</th>\n",
       "      <th>vote_count</th>\n",
       "      <th>imdb_id</th>\n",
       "    </tr>\n",
       "  </thead>\n",
       "  <tbody>\n",
       "    <tr>\n",
       "      <th>0</th>\n",
       "      <td>[18, 80]</td>\n",
       "      <td>278</td>\n",
       "      <td>Framed in the 1940s for the double murder of h...</td>\n",
       "      <td>28.527767</td>\n",
       "      <td>1994-09-23</td>\n",
       "      <td>The Shawshank Redemption</td>\n",
       "      <td>8.5</td>\n",
       "      <td>9773</td>\n",
       "      <td>tt0111161</td>\n",
       "    </tr>\n",
       "    <tr>\n",
       "      <th>1</th>\n",
       "      <td>[18, 80]</td>\n",
       "      <td>238</td>\n",
       "      <td>Spanning the years 1945 to 1955, a chronicle o...</td>\n",
       "      <td>36.965452</td>\n",
       "      <td>1972-03-14</td>\n",
       "      <td>The Godfather</td>\n",
       "      <td>8.5</td>\n",
       "      <td>7394</td>\n",
       "      <td>tt0068646</td>\n",
       "    </tr>\n",
       "    <tr>\n",
       "      <th>2</th>\n",
       "      <td>[18, 36, 10752]</td>\n",
       "      <td>424</td>\n",
       "      <td>The true story of how businessman Oskar Schind...</td>\n",
       "      <td>19.945455</td>\n",
       "      <td>1993-11-29</td>\n",
       "      <td>Schindler's List</td>\n",
       "      <td>8.4</td>\n",
       "      <td>5518</td>\n",
       "      <td>tt0108052</td>\n",
       "    </tr>\n",
       "    <tr>\n",
       "      <th>3</th>\n",
       "      <td>[18, 80]</td>\n",
       "      <td>240</td>\n",
       "      <td>In the continuing saga of the Corleone crime f...</td>\n",
       "      <td>30.191804</td>\n",
       "      <td>1974-12-20</td>\n",
       "      <td>The Godfather: Part II</td>\n",
       "      <td>8.4</td>\n",
       "      <td>4249</td>\n",
       "      <td>tt0071562</td>\n",
       "    </tr>\n",
       "    <tr>\n",
       "      <th>4</th>\n",
       "      <td>[18, 9648]</td>\n",
       "      <td>452522</td>\n",
       "      <td>Standalone version of the series pilot with an...</td>\n",
       "      <td>5.969249</td>\n",
       "      <td>1989-12-31</td>\n",
       "      <td>Twin Peaks</td>\n",
       "      <td>8.4</td>\n",
       "      <td>123</td>\n",
       "      <td>tt0278784</td>\n",
       "    </tr>\n",
       "  </tbody>\n",
       "</table>\n",
       "</div>"
      ],
      "text/plain": [
       "         genre_ids      id                                           overview  \\\n",
       "0         [18, 80]     278  Framed in the 1940s for the double murder of h...   \n",
       "1         [18, 80]     238  Spanning the years 1945 to 1955, a chronicle o...   \n",
       "2  [18, 36, 10752]     424  The true story of how businessman Oskar Schind...   \n",
       "3         [18, 80]     240  In the continuing saga of the Corleone crime f...   \n",
       "4       [18, 9648]  452522  Standalone version of the series pilot with an...   \n",
       "\n",
       "   popularity release_date                     title  vote_average  \\\n",
       "0   28.527767   1994-09-23  The Shawshank Redemption           8.5   \n",
       "1   36.965452   1972-03-14             The Godfather           8.5   \n",
       "2   19.945455   1993-11-29          Schindler's List           8.4   \n",
       "3   30.191804   1974-12-20    The Godfather: Part II           8.4   \n",
       "4    5.969249   1989-12-31                Twin Peaks           8.4   \n",
       "\n",
       "   vote_count    imdb_id  \n",
       "0        9773  tt0111161  \n",
       "1        7394  tt0068646  \n",
       "2        5518  tt0108052  \n",
       "3        4249  tt0071562  \n",
       "4         123  tt0278784  "
      ]
     },
     "execution_count": 3,
     "metadata": {},
     "output_type": "execute_result"
    }
   ],
   "source": [
    "movie_df.head()"
   ]
  },
  {
   "cell_type": "markdown",
   "metadata": {},
   "source": [
    "Now we can use the imdb_id to get the imdb attributes for each movie"
   ]
  },
  {
   "cell_type": "code",
   "execution_count": 6,
   "metadata": {
    "collapsed": true
   },
   "outputs": [],
   "source": [
    "ia = imdb.IMDb()"
   ]
  },
  {
   "cell_type": "code",
   "execution_count": 81,
   "metadata": {},
   "outputs": [
    {
     "data": {
      "text/plain": [
       "<Movie id:0068646[http] title:_The Godfather (1972)_>"
      ]
     },
     "execution_count": 81,
     "metadata": {},
     "output_type": "execute_result"
    }
   ],
   "source": [
    "godfather = ia.get_movie('0068646')\n",
    "godfather"
   ]
  },
  {
   "cell_type": "code",
   "execution_count": 82,
   "metadata": {},
   "outputs": [
    {
     "data": {
      "text/plain": [
       "['title',\n",
       " 'year',\n",
       " 'kind',\n",
       " 'cast',\n",
       " 'composers',\n",
       " 'editorial department',\n",
       " 'production managers ',\n",
       " 'art department',\n",
       " 'visual effects',\n",
       " 'casting department',\n",
       " 'costume departmen',\n",
       " 'location management',\n",
       " 'music department',\n",
       " 'transportation department',\n",
       " 'thanks',\n",
       " 'genres',\n",
       " 'runtimes',\n",
       " 'countries',\n",
       " 'country codes',\n",
       " 'language codes',\n",
       " 'color info',\n",
       " 'aspect ratio',\n",
       " 'sound mix',\n",
       " 'certificates',\n",
       " 'original air date',\n",
       " 'rating',\n",
       " 'votes',\n",
       " 'cover url',\n",
       " 'director',\n",
       " 'writer',\n",
       " 'producer',\n",
       " 'cinematographer',\n",
       " 'editor',\n",
       " 'casting director',\n",
       " 'production design',\n",
       " 'art direction',\n",
       " 'set decoration',\n",
       " 'costume designer',\n",
       " 'make up',\n",
       " 'assistant director',\n",
       " 'sound crew',\n",
       " 'special effects companies',\n",
       " 'stunt performer',\n",
       " 'camera and electrical department',\n",
       " 'miscellaneous crew',\n",
       " 'plot outline',\n",
       " 'languages',\n",
       " 'akas',\n",
       " 'top 250 rank',\n",
       " 'plot',\n",
       " 'synopsis',\n",
       " 'canonical title',\n",
       " 'long imdb title',\n",
       " 'long imdb canonical title',\n",
       " 'smart canonical title',\n",
       " 'smart long imdb canonical title',\n",
       " 'full-size cover url']"
      ]
     },
     "execution_count": 82,
     "metadata": {},
     "output_type": "execute_result"
    }
   ],
   "source": [
    "godfather.keys()"
   ]
  },
  {
   "cell_type": "markdown",
   "metadata": {},
   "source": [
    "We are interested in getting the genre and the plot description. **get_movie** takes a long time to run, so we will want to store all of the results in a series, and then pull the genre and the plot description from this series.\n",
    "\n",
    "It is faster to pull the information this way, because we are only using **get_movie** once, whereas using a traditional **.apply** method would have to use **get_movie** twice - once for genre and once for the plot description.\n",
    "\n",
    "The reason we are storing all_imdb_data as a series outside of the dataframe is because the contents of **get_movie** break our dataframe for some reason, even after the column is dropped."
   ]
  },
  {
   "cell_type": "code",
   "execution_count": 83,
   "metadata": {},
   "outputs": [],
   "source": [
    "all_imdb_data = movie_df['imdb_id'].apply(lambda x: ia.get_movie(x[2:]))"
   ]
  },
  {
   "cell_type": "code",
   "execution_count": 90,
   "metadata": {},
   "outputs": [],
   "source": [
    "movie_df['imdb_genres'] = all_imdb_data.apply(lambda x: x['genres'] if x.keys() != [] else None)\n",
    "movie_df['imdb_plot'] = all_imdb_data.apply(lambda x: x['plot']if x.keys() != [] else None)"
   ]
  },
  {
   "cell_type": "code",
   "execution_count": 92,
   "metadata": {},
   "outputs": [
    {
     "data": {
      "text/html": [
       "<div>\n",
       "<style>\n",
       "    .dataframe thead tr:only-child th {\n",
       "        text-align: right;\n",
       "    }\n",
       "\n",
       "    .dataframe thead th {\n",
       "        text-align: left;\n",
       "    }\n",
       "\n",
       "    .dataframe tbody tr th {\n",
       "        vertical-align: top;\n",
       "    }\n",
       "</style>\n",
       "<table border=\"1\" class=\"dataframe\">\n",
       "  <thead>\n",
       "    <tr style=\"text-align: right;\">\n",
       "      <th></th>\n",
       "      <th>genre_ids</th>\n",
       "      <th>id</th>\n",
       "      <th>overview</th>\n",
       "      <th>popularity</th>\n",
       "      <th>release_date</th>\n",
       "      <th>title</th>\n",
       "      <th>vote_average</th>\n",
       "      <th>vote_count</th>\n",
       "      <th>imdb_id</th>\n",
       "      <th>imdb_genres</th>\n",
       "      <th>imdb_plot</th>\n",
       "    </tr>\n",
       "  </thead>\n",
       "  <tbody>\n",
       "    <tr>\n",
       "      <th>0</th>\n",
       "      <td>[18, 80]</td>\n",
       "      <td>278</td>\n",
       "      <td>Framed in the 1940s for the double murder of h...</td>\n",
       "      <td>28.527767</td>\n",
       "      <td>1994-09-23</td>\n",
       "      <td>The Shawshank Redemption</td>\n",
       "      <td>8.5</td>\n",
       "      <td>9773</td>\n",
       "      <td>tt0111161</td>\n",
       "      <td>[Crime, Drama]</td>\n",
       "      <td>[Chronicles the experiences of a formerly succ...</td>\n",
       "    </tr>\n",
       "    <tr>\n",
       "      <th>1</th>\n",
       "      <td>[18, 80]</td>\n",
       "      <td>238</td>\n",
       "      <td>Spanning the years 1945 to 1955, a chronicle o...</td>\n",
       "      <td>36.965452</td>\n",
       "      <td>1972-03-14</td>\n",
       "      <td>The Godfather</td>\n",
       "      <td>8.5</td>\n",
       "      <td>7394</td>\n",
       "      <td>tt0068646</td>\n",
       "      <td>[Crime, Drama]</td>\n",
       "      <td>[When the aging head of a famous crime family ...</td>\n",
       "    </tr>\n",
       "    <tr>\n",
       "      <th>2</th>\n",
       "      <td>[18, 36, 10752]</td>\n",
       "      <td>424</td>\n",
       "      <td>The true story of how businessman Oskar Schind...</td>\n",
       "      <td>19.945455</td>\n",
       "      <td>1993-11-29</td>\n",
       "      <td>Schindler's List</td>\n",
       "      <td>8.4</td>\n",
       "      <td>5518</td>\n",
       "      <td>tt0108052</td>\n",
       "      <td>[Biography, Drama, History]</td>\n",
       "      <td>[Oskar Schindler is a vainglorious and greedy ...</td>\n",
       "    </tr>\n",
       "    <tr>\n",
       "      <th>3</th>\n",
       "      <td>[18, 80]</td>\n",
       "      <td>240</td>\n",
       "      <td>In the continuing saga of the Corleone crime f...</td>\n",
       "      <td>30.191804</td>\n",
       "      <td>1974-12-20</td>\n",
       "      <td>The Godfather: Part II</td>\n",
       "      <td>8.4</td>\n",
       "      <td>4249</td>\n",
       "      <td>tt0071562</td>\n",
       "      <td>[Crime, Drama]</td>\n",
       "      <td>[The continuing saga of the Corleone crime fam...</td>\n",
       "    </tr>\n",
       "    <tr>\n",
       "      <th>4</th>\n",
       "      <td>[18, 9648]</td>\n",
       "      <td>452522</td>\n",
       "      <td>Standalone version of the series pilot with an...</td>\n",
       "      <td>5.969249</td>\n",
       "      <td>1989-12-31</td>\n",
       "      <td>Twin Peaks</td>\n",
       "      <td>8.4</td>\n",
       "      <td>123</td>\n",
       "      <td>tt0278784</td>\n",
       "      <td>[Crime, Drama, Mystery, Thriller]</td>\n",
       "      <td>[When beautiful, young Laura Palmer is found b...</td>\n",
       "    </tr>\n",
       "  </tbody>\n",
       "</table>\n",
       "</div>"
      ],
      "text/plain": [
       "         genre_ids      id                                           overview  \\\n",
       "0         [18, 80]     278  Framed in the 1940s for the double murder of h...   \n",
       "1         [18, 80]     238  Spanning the years 1945 to 1955, a chronicle o...   \n",
       "2  [18, 36, 10752]     424  The true story of how businessman Oskar Schind...   \n",
       "3         [18, 80]     240  In the continuing saga of the Corleone crime f...   \n",
       "4       [18, 9648]  452522  Standalone version of the series pilot with an...   \n",
       "\n",
       "   popularity release_date                     title  vote_average  \\\n",
       "0   28.527767   1994-09-23  The Shawshank Redemption           8.5   \n",
       "1   36.965452   1972-03-14             The Godfather           8.5   \n",
       "2   19.945455   1993-11-29          Schindler's List           8.4   \n",
       "3   30.191804   1974-12-20    The Godfather: Part II           8.4   \n",
       "4    5.969249   1989-12-31                Twin Peaks           8.4   \n",
       "\n",
       "   vote_count    imdb_id                        imdb_genres  \\\n",
       "0        9773  tt0111161                     [Crime, Drama]   \n",
       "1        7394  tt0068646                     [Crime, Drama]   \n",
       "2        5518  tt0108052        [Biography, Drama, History]   \n",
       "3        4249  tt0071562                     [Crime, Drama]   \n",
       "4         123  tt0278784  [Crime, Drama, Mystery, Thriller]   \n",
       "\n",
       "                                           imdb_plot  \n",
       "0  [Chronicles the experiences of a formerly succ...  \n",
       "1  [When the aging head of a famous crime family ...  \n",
       "2  [Oskar Schindler is a vainglorious and greedy ...  \n",
       "3  [The continuing saga of the Corleone crime fam...  \n",
       "4  [When beautiful, young Laura Palmer is found b...  "
      ]
     },
     "execution_count": 92,
     "metadata": {},
     "output_type": "execute_result"
    }
   ],
   "source": [
    "movie_df.head()"
   ]
  },
  {
   "cell_type": "markdown",
   "metadata": {},
   "source": [
    "**Genres**"
   ]
  },
  {
   "cell_type": "code",
   "execution_count": 111,
   "metadata": {},
   "outputs": [
    {
     "data": {
      "text/plain": [
       "{12: 'Adventure',\n",
       " 14: 'Fantasy',\n",
       " 16: 'Animation',\n",
       " 18: 'Drama',\n",
       " 27: 'Horror',\n",
       " 28: 'Action',\n",
       " 35: 'Comedy',\n",
       " 36: 'History',\n",
       " 37: 'Western',\n",
       " 53: 'Thriller',\n",
       " 80: 'Crime',\n",
       " 99: 'Documentary',\n",
       " 878: 'Science Fiction',\n",
       " 9648: 'Mystery',\n",
       " 10402: 'Music',\n",
       " 10749: 'Romance',\n",
       " 10751: 'Family',\n",
       " 10752: 'War',\n",
       " 10770: 'TV Movie'}"
      ]
     },
     "execution_count": 111,
     "metadata": {},
     "output_type": "execute_result"
    }
   ],
   "source": [
    "url = \"https://api.themoviedb.org/3/genre/movie/list?api_key={0}&language=en-US\".format(key)\n",
    "response = requests.request(\"GET\", url, data=payload).json()\n",
    "\n",
    "id_to_genre = dict(zip([i['id'] for i in response['genres']],\n",
    "                     [i['name'] for i in response['genres']]))\n",
    "\n",
    "genre_to_id = dict(zip([i['name'] for i in response['genres']],\n",
    "                       [i['id'] for i in response['genres']]))\n",
    "\n",
    "id_to_genre"
   ]
  },
  {
   "cell_type": "code",
   "execution_count": 136,
   "metadata": {},
   "outputs": [],
   "source": [
    "def convert_genre_list(x):\n",
    "    new_list = []\n",
    "    for genre in x:\n",
    "        if genre in ['Biography', 'Short', 'Film-Noir', 'Sport', #these genres don't exist in tmdb dataset\n",
    "                    'Reality-TV']:\n",
    "            continue\n",
    "        elif genre=='Sci-Fi':\n",
    "            genre='Science Fiction'\n",
    "        elif genre=='Musical':\n",
    "            genre='Music'\n",
    "        new_list.append(genre_to_id[genre])\n",
    "    return new_list"
   ]
  },
  {
   "cell_type": "code",
   "execution_count": 137,
   "metadata": {},
   "outputs": [],
   "source": [
    "movie_df['imdb_genres'] = movie_df['imdb_genres'].apply(lambda x: convert_genre_list(x))"
   ]
  },
  {
   "cell_type": "markdown",
   "metadata": {},
   "source": [
    "Change order of columns, rename columns for consistency"
   ]
  },
  {
   "cell_type": "code",
   "execution_count": 149,
   "metadata": {},
   "outputs": [],
   "source": [
    "movie_df = movie_df[['id', 'imdb_id', 'genre_ids', 'imdb_genres','overview','imdb_plot', \n",
    "                    'popularity', 'release_date', 'title', 'vote_average', 'vote_count']]\n",
    "\n",
    "movie_df.rename(columns={'id':'tmdb_id',\n",
    "                        'genre_ids':'tmdb_genres',\n",
    "                         'overview':'tmdb_plot'}, inplace=True)\n"
   ]
  },
  {
   "cell_type": "code",
   "execution_count": 150,
   "metadata": {},
   "outputs": [
    {
     "data": {
      "text/html": [
       "<div>\n",
       "<style>\n",
       "    .dataframe thead tr:only-child th {\n",
       "        text-align: right;\n",
       "    }\n",
       "\n",
       "    .dataframe thead th {\n",
       "        text-align: left;\n",
       "    }\n",
       "\n",
       "    .dataframe tbody tr th {\n",
       "        vertical-align: top;\n",
       "    }\n",
       "</style>\n",
       "<table border=\"1\" class=\"dataframe\">\n",
       "  <thead>\n",
       "    <tr style=\"text-align: right;\">\n",
       "      <th></th>\n",
       "      <th>tmdb_id</th>\n",
       "      <th>imdb_id</th>\n",
       "      <th>tmdb_genres</th>\n",
       "      <th>imdb_genres</th>\n",
       "      <th>tmdb_plot</th>\n",
       "      <th>imdb_plot</th>\n",
       "      <th>popularity</th>\n",
       "      <th>release_date</th>\n",
       "      <th>title</th>\n",
       "      <th>vote_average</th>\n",
       "      <th>vote_count</th>\n",
       "    </tr>\n",
       "  </thead>\n",
       "  <tbody>\n",
       "    <tr>\n",
       "      <th>0</th>\n",
       "      <td>278</td>\n",
       "      <td>tt0111161</td>\n",
       "      <td>[18, 80]</td>\n",
       "      <td>[80, 18]</td>\n",
       "      <td>Framed in the 1940s for the double murder of h...</td>\n",
       "      <td>[Chronicles the experiences of a formerly succ...</td>\n",
       "      <td>28.527767</td>\n",
       "      <td>1994-09-23</td>\n",
       "      <td>The Shawshank Redemption</td>\n",
       "      <td>8.5</td>\n",
       "      <td>9773</td>\n",
       "    </tr>\n",
       "    <tr>\n",
       "      <th>1</th>\n",
       "      <td>238</td>\n",
       "      <td>tt0068646</td>\n",
       "      <td>[18, 80]</td>\n",
       "      <td>[80, 18]</td>\n",
       "      <td>Spanning the years 1945 to 1955, a chronicle o...</td>\n",
       "      <td>[When the aging head of a famous crime family ...</td>\n",
       "      <td>36.965452</td>\n",
       "      <td>1972-03-14</td>\n",
       "      <td>The Godfather</td>\n",
       "      <td>8.5</td>\n",
       "      <td>7394</td>\n",
       "    </tr>\n",
       "    <tr>\n",
       "      <th>2</th>\n",
       "      <td>424</td>\n",
       "      <td>tt0108052</td>\n",
       "      <td>[18, 36, 10752]</td>\n",
       "      <td>[18, 36]</td>\n",
       "      <td>The true story of how businessman Oskar Schind...</td>\n",
       "      <td>[Oskar Schindler is a vainglorious and greedy ...</td>\n",
       "      <td>19.945455</td>\n",
       "      <td>1993-11-29</td>\n",
       "      <td>Schindler's List</td>\n",
       "      <td>8.4</td>\n",
       "      <td>5518</td>\n",
       "    </tr>\n",
       "    <tr>\n",
       "      <th>3</th>\n",
       "      <td>240</td>\n",
       "      <td>tt0071562</td>\n",
       "      <td>[18, 80]</td>\n",
       "      <td>[80, 18]</td>\n",
       "      <td>In the continuing saga of the Corleone crime f...</td>\n",
       "      <td>[The continuing saga of the Corleone crime fam...</td>\n",
       "      <td>30.191804</td>\n",
       "      <td>1974-12-20</td>\n",
       "      <td>The Godfather: Part II</td>\n",
       "      <td>8.4</td>\n",
       "      <td>4249</td>\n",
       "    </tr>\n",
       "    <tr>\n",
       "      <th>4</th>\n",
       "      <td>452522</td>\n",
       "      <td>tt0278784</td>\n",
       "      <td>[18, 9648]</td>\n",
       "      <td>[80, 18, 9648, 53]</td>\n",
       "      <td>Standalone version of the series pilot with an...</td>\n",
       "      <td>[When beautiful, young Laura Palmer is found b...</td>\n",
       "      <td>5.969249</td>\n",
       "      <td>1989-12-31</td>\n",
       "      <td>Twin Peaks</td>\n",
       "      <td>8.4</td>\n",
       "      <td>123</td>\n",
       "    </tr>\n",
       "  </tbody>\n",
       "</table>\n",
       "</div>"
      ],
      "text/plain": [
       "   tmdb_id    imdb_id      tmdb_genres         imdb_genres  \\\n",
       "0      278  tt0111161         [18, 80]            [80, 18]   \n",
       "1      238  tt0068646         [18, 80]            [80, 18]   \n",
       "2      424  tt0108052  [18, 36, 10752]            [18, 36]   \n",
       "3      240  tt0071562         [18, 80]            [80, 18]   \n",
       "4   452522  tt0278784       [18, 9648]  [80, 18, 9648, 53]   \n",
       "\n",
       "                                           tmdb_plot  \\\n",
       "0  Framed in the 1940s for the double murder of h...   \n",
       "1  Spanning the years 1945 to 1955, a chronicle o...   \n",
       "2  The true story of how businessman Oskar Schind...   \n",
       "3  In the continuing saga of the Corleone crime f...   \n",
       "4  Standalone version of the series pilot with an...   \n",
       "\n",
       "                                           imdb_plot  popularity release_date  \\\n",
       "0  [Chronicles the experiences of a formerly succ...   28.527767   1994-09-23   \n",
       "1  [When the aging head of a famous crime family ...   36.965452   1972-03-14   \n",
       "2  [Oskar Schindler is a vainglorious and greedy ...   19.945455   1993-11-29   \n",
       "3  [The continuing saga of the Corleone crime fam...   30.191804   1974-12-20   \n",
       "4  [When beautiful, young Laura Palmer is found b...    5.969249   1989-12-31   \n",
       "\n",
       "                      title  vote_average  vote_count  \n",
       "0  The Shawshank Redemption           8.5        9773  \n",
       "1             The Godfather           8.5        7394  \n",
       "2          Schindler's List           8.4        5518  \n",
       "3    The Godfather: Part II           8.4        4249  \n",
       "4                Twin Peaks           8.4         123  "
      ]
     },
     "execution_count": 150,
     "metadata": {},
     "output_type": "execute_result"
    }
   ],
   "source": [
    "movie_df.head()"
   ]
  },
  {
   "cell_type": "code",
   "execution_count": 152,
   "metadata": {},
   "outputs": [],
   "source": [
    "movie_df.to_csv('data/movie_df_with_imdb.csv')"
   ]
  },
  {
   "cell_type": "code",
   "execution_count": null,
   "metadata": {
    "collapsed": true
   },
   "outputs": [],
   "source": []
  }
 ],
 "metadata": {
  "kernelspec": {
   "display_name": "Python 3",
   "language": "python",
   "name": "python3"
  },
  "language_info": {
   "codemirror_mode": {
    "name": "ipython",
    "version": 3
   },
   "file_extension": ".py",
   "mimetype": "text/x-python",
   "name": "python",
   "nbconvert_exporter": "python",
   "pygments_lexer": "ipython3",
   "version": "3.6.1"
  }
 },
 "nbformat": 4,
 "nbformat_minor": 2
}
