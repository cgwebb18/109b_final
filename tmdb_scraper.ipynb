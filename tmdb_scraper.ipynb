{
 "cells": [
  {
   "cell_type": "markdown",
   "metadata": {},
   "source": [
    "import libraries"
   ]
  },
  {
   "cell_type": "code",
   "execution_count": 4,
   "metadata": {
    "collapsed": true
   },
   "outputs": [],
   "source": [
    "import tmdbsimple\n",
    "import requests\n",
    "import pandas as pd\n",
    "import time"
   ]
  },
  {
   "cell_type": "markdown",
   "metadata": {},
   "source": [
    "Loop through 50 pages to create a dataframe of 1000 movies"
   ]
  },
  {
   "cell_type": "code",
   "execution_count": 11,
   "metadata": {},
   "outputs": [],
   "source": [
    "key = open('key.txt','r').read()\n",
    "payload = \"{}\"\n",
    "\n",
    "movie_df = pd.DataFrame() #create empty dataframe to enable 'while loop' below\n",
    "\n",
    "page=1\n",
    "while movie_df.shape[0] < 1000:\n",
    "    url = \"https://api.themoviedb.org/3/movie/top_rated?api_key={0}&language=en-US&page={1}\".format(key, str(page))\n",
    "    response = requests.request(\"GET\", url, data=payload).json()\n",
    "    if page == 1: #initialize dataframe on first loop\n",
    "        movie_df = pd.DataFrame(response['results'])\n",
    "    else:\n",
    "        movie_df = movie_df.append(pd.DataFrame(response['results']))\n",
    "    \n",
    "    movie_df = movie_df[movie_df['original_language']=='en'] #remove non english movies\n",
    "    time.sleep(0.25) #rate limit is 4 pages per second\n",
    "    page+=1\n",
    "        "
   ]
  },
  {
   "cell_type": "code",
   "execution_count": 15,
   "metadata": {},
   "outputs": [
    {
     "data": {
      "text/html": [
       "<div>\n",
       "<style>\n",
       "    .dataframe thead tr:only-child th {\n",
       "        text-align: right;\n",
       "    }\n",
       "\n",
       "    .dataframe thead th {\n",
       "        text-align: left;\n",
       "    }\n",
       "\n",
       "    .dataframe tbody tr th {\n",
       "        vertical-align: top;\n",
       "    }\n",
       "</style>\n",
       "<table border=\"1\" class=\"dataframe\">\n",
       "  <thead>\n",
       "    <tr style=\"text-align: right;\">\n",
       "      <th></th>\n",
       "      <th>adult</th>\n",
       "      <th>backdrop_path</th>\n",
       "      <th>genre_ids</th>\n",
       "      <th>id</th>\n",
       "      <th>original_language</th>\n",
       "      <th>original_title</th>\n",
       "      <th>overview</th>\n",
       "      <th>popularity</th>\n",
       "      <th>poster_path</th>\n",
       "      <th>release_date</th>\n",
       "      <th>title</th>\n",
       "      <th>video</th>\n",
       "      <th>vote_average</th>\n",
       "      <th>vote_count</th>\n",
       "    </tr>\n",
       "  </thead>\n",
       "  <tbody>\n",
       "    <tr>\n",
       "      <th>1</th>\n",
       "      <td>False</td>\n",
       "      <td>/xBKGJQsAIeweesB79KC89FpBrVr.jpg</td>\n",
       "      <td>[18, 80]</td>\n",
       "      <td>278</td>\n",
       "      <td>en</td>\n",
       "      <td>The Shawshank Redemption</td>\n",
       "      <td>Framed in the 1940s for the double murder of h...</td>\n",
       "      <td>28.527767</td>\n",
       "      <td>/9O7gLzmreU0nGkIB6K3BsJbzvNv.jpg</td>\n",
       "      <td>1994-09-23</td>\n",
       "      <td>The Shawshank Redemption</td>\n",
       "      <td>False</td>\n",
       "      <td>8.5</td>\n",
       "      <td>9773</td>\n",
       "    </tr>\n",
       "    <tr>\n",
       "      <th>3</th>\n",
       "      <td>False</td>\n",
       "      <td>/6xKCYgH16UuwEGAyroLU6p8HLIn.jpg</td>\n",
       "      <td>[18, 80]</td>\n",
       "      <td>238</td>\n",
       "      <td>en</td>\n",
       "      <td>The Godfather</td>\n",
       "      <td>Spanning the years 1945 to 1955, a chronicle o...</td>\n",
       "      <td>36.965452</td>\n",
       "      <td>/rPdtLWNsZmAtoZl9PK7S2wE3qiS.jpg</td>\n",
       "      <td>1972-03-14</td>\n",
       "      <td>The Godfather</td>\n",
       "      <td>False</td>\n",
       "      <td>8.5</td>\n",
       "      <td>7394</td>\n",
       "    </tr>\n",
       "    <tr>\n",
       "      <th>5</th>\n",
       "      <td>False</td>\n",
       "      <td>/rIpSszng8P0DL0TimSzZbpfnvh1.jpg</td>\n",
       "      <td>[18, 36, 10752]</td>\n",
       "      <td>424</td>\n",
       "      <td>en</td>\n",
       "      <td>Schindler's List</td>\n",
       "      <td>The true story of how businessman Oskar Schind...</td>\n",
       "      <td>19.945455</td>\n",
       "      <td>/yPisjyLweCl1tbgwgtzBCNCBle.jpg</td>\n",
       "      <td>1993-11-29</td>\n",
       "      <td>Schindler's List</td>\n",
       "      <td>False</td>\n",
       "      <td>8.4</td>\n",
       "      <td>5518</td>\n",
       "    </tr>\n",
       "    <tr>\n",
       "      <th>6</th>\n",
       "      <td>False</td>\n",
       "      <td>/gLbBRyS7MBrmVUNce91Hmx9vzqI.jpg</td>\n",
       "      <td>[18, 80]</td>\n",
       "      <td>240</td>\n",
       "      <td>en</td>\n",
       "      <td>The Godfather: Part II</td>\n",
       "      <td>In the continuing saga of the Corleone crime f...</td>\n",
       "      <td>30.191804</td>\n",
       "      <td>/tHbMIIF51rguMNSastqoQwR0sBs.jpg</td>\n",
       "      <td>1974-12-20</td>\n",
       "      <td>The Godfather: Part II</td>\n",
       "      <td>False</td>\n",
       "      <td>8.4</td>\n",
       "      <td>4249</td>\n",
       "    </tr>\n",
       "    <tr>\n",
       "      <th>7</th>\n",
       "      <td>False</td>\n",
       "      <td>/xqjGKLwLZeujg4fiBTOqhZkoL31.jpg</td>\n",
       "      <td>[18, 9648]</td>\n",
       "      <td>452522</td>\n",
       "      <td>en</td>\n",
       "      <td>Twin Peaks</td>\n",
       "      <td>Standalone version of the series pilot with an...</td>\n",
       "      <td>5.969249</td>\n",
       "      <td>/zQsEi6096L7PvowV39dtdqdW16f.jpg</td>\n",
       "      <td>1989-12-31</td>\n",
       "      <td>Twin Peaks</td>\n",
       "      <td>False</td>\n",
       "      <td>8.4</td>\n",
       "      <td>123</td>\n",
       "    </tr>\n",
       "  </tbody>\n",
       "</table>\n",
       "</div>"
      ],
      "text/plain": [
       "   adult                     backdrop_path        genre_ids      id  \\\n",
       "1  False  /xBKGJQsAIeweesB79KC89FpBrVr.jpg         [18, 80]     278   \n",
       "3  False  /6xKCYgH16UuwEGAyroLU6p8HLIn.jpg         [18, 80]     238   \n",
       "5  False  /rIpSszng8P0DL0TimSzZbpfnvh1.jpg  [18, 36, 10752]     424   \n",
       "6  False  /gLbBRyS7MBrmVUNce91Hmx9vzqI.jpg         [18, 80]     240   \n",
       "7  False  /xqjGKLwLZeujg4fiBTOqhZkoL31.jpg       [18, 9648]  452522   \n",
       "\n",
       "  original_language            original_title  \\\n",
       "1                en  The Shawshank Redemption   \n",
       "3                en             The Godfather   \n",
       "5                en          Schindler's List   \n",
       "6                en    The Godfather: Part II   \n",
       "7                en                Twin Peaks   \n",
       "\n",
       "                                            overview  popularity  \\\n",
       "1  Framed in the 1940s for the double murder of h...   28.527767   \n",
       "3  Spanning the years 1945 to 1955, a chronicle o...   36.965452   \n",
       "5  The true story of how businessman Oskar Schind...   19.945455   \n",
       "6  In the continuing saga of the Corleone crime f...   30.191804   \n",
       "7  Standalone version of the series pilot with an...    5.969249   \n",
       "\n",
       "                        poster_path release_date                     title  \\\n",
       "1  /9O7gLzmreU0nGkIB6K3BsJbzvNv.jpg   1994-09-23  The Shawshank Redemption   \n",
       "3  /rPdtLWNsZmAtoZl9PK7S2wE3qiS.jpg   1972-03-14             The Godfather   \n",
       "5   /yPisjyLweCl1tbgwgtzBCNCBle.jpg   1993-11-29          Schindler's List   \n",
       "6  /tHbMIIF51rguMNSastqoQwR0sBs.jpg   1974-12-20    The Godfather: Part II   \n",
       "7  /zQsEi6096L7PvowV39dtdqdW16f.jpg   1989-12-31                Twin Peaks   \n",
       "\n",
       "   video  vote_average  vote_count  \n",
       "1  False           8.5        9773  \n",
       "3  False           8.5        7394  \n",
       "5  False           8.4        5518  \n",
       "6  False           8.4        4249  \n",
       "7  False           8.4         123  "
      ]
     },
     "execution_count": 15,
     "metadata": {},
     "output_type": "execute_result"
    }
   ],
   "source": [
    "movie_df.to_csv('data\\movie_df.csv',encoding=\"utf-8\")\n",
    "movie_df.head()"
   ]
  },
  {
   "cell_type": "code",
   "execution_count": 14,
   "metadata": {},
   "outputs": [
    {
     "data": {
      "text/plain": [
       "(1001, 14)"
      ]
     },
     "execution_count": 14,
     "metadata": {},
     "output_type": "execute_result"
    }
   ],
   "source": [
    "movie_df.shape"
   ]
  },
  {
   "cell_type": "code",
   "execution_count": null,
   "metadata": {
    "collapsed": true
   },
   "outputs": [],
   "source": []
  }
 ],
 "metadata": {
  "kernelspec": {
   "display_name": "Python 3",
   "language": "python",
   "name": "python3"
  },
  "language_info": {
   "codemirror_mode": {
    "name": "ipython",
    "version": 3
   },
   "file_extension": ".py",
   "mimetype": "text/x-python",
   "name": "python",
   "nbconvert_exporter": "python",
   "pygments_lexer": "ipython3",
   "version": "3.6.1"
  }
 },
 "nbformat": 4,
 "nbformat_minor": 2
}
