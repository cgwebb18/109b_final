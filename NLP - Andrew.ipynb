{
 "cells": [
  {
   "cell_type": "markdown",
   "metadata": {},
   "source": [
    "sources:\n",
    "\n",
    "https://towardsdatascience.com/machine-learning-nlp-text-classification-using-scikit-learn-python-and-nltk-c52b92a7c73a\n",
    "\n",
    "https://spandan-madan.github.io/DeepLearningProject/\n",
    "\n",
    "# Initial Data Prep"
   ]
  },
  {
   "cell_type": "code",
   "execution_count": 113,
   "metadata": {
    "collapsed": true
   },
   "outputs": [],
   "source": [
    "import pandas as pd\n",
    "from ast import literal_eval\n",
    "import numpy as np\n",
    "import requests\n",
    "from sklearn.preprocessing import MultiLabelBinarizer\n",
    "from sklearn.feature_extraction.text import CountVectorizer\n",
    "import re\n",
    "from nltk.corpus import stopwords"
   ]
  },
  {
   "cell_type": "code",
   "execution_count": 89,
   "metadata": {},
   "outputs": [
    {
     "data": {
      "text/html": [
       "<div>\n",
       "<style scoped>\n",
       "    .dataframe tbody tr th:only-of-type {\n",
       "        vertical-align: middle;\n",
       "    }\n",
       "\n",
       "    .dataframe tbody tr th {\n",
       "        vertical-align: top;\n",
       "    }\n",
       "\n",
       "    .dataframe thead th {\n",
       "        text-align: right;\n",
       "    }\n",
       "</style>\n",
       "<table border=\"1\" class=\"dataframe\">\n",
       "  <thead>\n",
       "    <tr style=\"text-align: right;\">\n",
       "      <th></th>\n",
       "      <th>genre_ids</th>\n",
       "      <th>id</th>\n",
       "      <th>overview</th>\n",
       "      <th>popularity</th>\n",
       "      <th>release_date</th>\n",
       "      <th>title</th>\n",
       "      <th>vote_average</th>\n",
       "      <th>vote_count</th>\n",
       "      <th>imdb_id</th>\n",
       "    </tr>\n",
       "  </thead>\n",
       "  <tbody>\n",
       "    <tr>\n",
       "      <th>0</th>\n",
       "      <td>[18, 80]</td>\n",
       "      <td>278</td>\n",
       "      <td>Framed in the 1940s for the double murder of h...</td>\n",
       "      <td>28.527767</td>\n",
       "      <td>1994-09-23</td>\n",
       "      <td>The Shawshank Redemption</td>\n",
       "      <td>8.5</td>\n",
       "      <td>9773</td>\n",
       "      <td>tt0111161</td>\n",
       "    </tr>\n",
       "    <tr>\n",
       "      <th>1</th>\n",
       "      <td>[18, 80]</td>\n",
       "      <td>238</td>\n",
       "      <td>Spanning the years 1945 to 1955, a chronicle o...</td>\n",
       "      <td>36.965452</td>\n",
       "      <td>1972-03-14</td>\n",
       "      <td>The Godfather</td>\n",
       "      <td>8.5</td>\n",
       "      <td>7394</td>\n",
       "      <td>tt0068646</td>\n",
       "    </tr>\n",
       "    <tr>\n",
       "      <th>2</th>\n",
       "      <td>[18, 36, 10752]</td>\n",
       "      <td>424</td>\n",
       "      <td>The true story of how businessman Oskar Schind...</td>\n",
       "      <td>19.945455</td>\n",
       "      <td>1993-11-29</td>\n",
       "      <td>Schindler's List</td>\n",
       "      <td>8.4</td>\n",
       "      <td>5518</td>\n",
       "      <td>tt0108052</td>\n",
       "    </tr>\n",
       "    <tr>\n",
       "      <th>3</th>\n",
       "      <td>[18, 80]</td>\n",
       "      <td>240</td>\n",
       "      <td>In the continuing saga of the Corleone crime f...</td>\n",
       "      <td>30.191804</td>\n",
       "      <td>1974-12-20</td>\n",
       "      <td>The Godfather: Part II</td>\n",
       "      <td>8.4</td>\n",
       "      <td>4249</td>\n",
       "      <td>tt0071562</td>\n",
       "    </tr>\n",
       "    <tr>\n",
       "      <th>4</th>\n",
       "      <td>[18, 9648]</td>\n",
       "      <td>452522</td>\n",
       "      <td>Standalone version of the series pilot with an...</td>\n",
       "      <td>5.969249</td>\n",
       "      <td>1989-12-31</td>\n",
       "      <td>Twin Peaks</td>\n",
       "      <td>8.4</td>\n",
       "      <td>123</td>\n",
       "      <td>tt0278784</td>\n",
       "    </tr>\n",
       "  </tbody>\n",
       "</table>\n",
       "</div>"
      ],
      "text/plain": [
       "         genre_ids      id                                           overview  \\\n",
       "0         [18, 80]     278  Framed in the 1940s for the double murder of h...   \n",
       "1         [18, 80]     238  Spanning the years 1945 to 1955, a chronicle o...   \n",
       "2  [18, 36, 10752]     424  The true story of how businessman Oskar Schind...   \n",
       "3         [18, 80]     240  In the continuing saga of the Corleone crime f...   \n",
       "4       [18, 9648]  452522  Standalone version of the series pilot with an...   \n",
       "\n",
       "   popularity release_date                     title  vote_average  \\\n",
       "0   28.527767   1994-09-23  The Shawshank Redemption           8.5   \n",
       "1   36.965452   1972-03-14             The Godfather           8.5   \n",
       "2   19.945455   1993-11-29          Schindler's List           8.4   \n",
       "3   30.191804   1974-12-20    The Godfather: Part II           8.4   \n",
       "4    5.969249   1989-12-31                Twin Peaks           8.4   \n",
       "\n",
       "   vote_count    imdb_id  \n",
       "0        9773  tt0111161  \n",
       "1        7394  tt0068646  \n",
       "2        5518  tt0108052  \n",
       "3        4249  tt0071562  \n",
       "4         123  tt0278784  "
      ]
     },
     "execution_count": 89,
     "metadata": {},
     "output_type": "execute_result"
    }
   ],
   "source": [
    "df = pd.read_csv('data/movie_df.csv', encoding='utf8', converters={'genre_ids':literal_eval})\n",
    "df = df[df['genre_ids'].str.len() != 0]\n",
    "df.head()"
   ]
  },
  {
   "cell_type": "code",
   "execution_count": 90,
   "metadata": {},
   "outputs": [
    {
     "data": {
      "text/plain": [
       "1000"
      ]
     },
     "execution_count": 90,
     "metadata": {},
     "output_type": "execute_result"
    }
   ],
   "source": [
    "len(df)"
   ]
  },
  {
   "cell_type": "code",
   "execution_count": 91,
   "metadata": {},
   "outputs": [
    {
     "data": {
      "text/html": [
       "<div>\n",
       "<style scoped>\n",
       "    .dataframe tbody tr th:only-of-type {\n",
       "        vertical-align: middle;\n",
       "    }\n",
       "\n",
       "    .dataframe tbody tr th {\n",
       "        vertical-align: top;\n",
       "    }\n",
       "\n",
       "    .dataframe thead th {\n",
       "        text-align: right;\n",
       "    }\n",
       "</style>\n",
       "<table border=\"1\" class=\"dataframe\">\n",
       "  <thead>\n",
       "    <tr style=\"text-align: right;\">\n",
       "      <th></th>\n",
       "      <th>genre_ids</th>\n",
       "      <th>id</th>\n",
       "      <th>overview</th>\n",
       "      <th>popularity</th>\n",
       "      <th>release_date</th>\n",
       "      <th>title</th>\n",
       "      <th>vote_average</th>\n",
       "      <th>vote_count</th>\n",
       "      <th>imdb_id</th>\n",
       "    </tr>\n",
       "  </thead>\n",
       "  <tbody>\n",
       "    <tr>\n",
       "      <th>996</th>\n",
       "      <td>[27, 9648, 53]</td>\n",
       "      <td>2654</td>\n",
       "      <td>With the disappearance of hack horror writer S...</td>\n",
       "      <td>10.361558</td>\n",
       "      <td>1994-12-12</td>\n",
       "      <td>In the Mouth of Madness</td>\n",
       "      <td>7.2</td>\n",
       "      <td>405</td>\n",
       "      <td>tt0113409</td>\n",
       "    </tr>\n",
       "    <tr>\n",
       "      <th>997</th>\n",
       "      <td>[27, 9648, 878]</td>\n",
       "      <td>837</td>\n",
       "      <td>A sleazy cable-TV programmer begins to see his...</td>\n",
       "      <td>7.721037</td>\n",
       "      <td>1983-02-04</td>\n",
       "      <td>Videodrome</td>\n",
       "      <td>7.2</td>\n",
       "      <td>600</td>\n",
       "      <td>tt0086541</td>\n",
       "    </tr>\n",
       "    <tr>\n",
       "      <th>998</th>\n",
       "      <td>[18]</td>\n",
       "      <td>205601</td>\n",
       "      <td>BELLE is inspired by the true story of Dido El...</td>\n",
       "      <td>12.822260</td>\n",
       "      <td>2013-09-08</td>\n",
       "      <td>Belle</td>\n",
       "      <td>7.2</td>\n",
       "      <td>285</td>\n",
       "      <td>tt2404181</td>\n",
       "    </tr>\n",
       "    <tr>\n",
       "      <th>999</th>\n",
       "      <td>[35, 9648]</td>\n",
       "      <td>10440</td>\n",
       "      <td>A middle-aged couple suspects foul play when t...</td>\n",
       "      <td>6.992721</td>\n",
       "      <td>1993-08-18</td>\n",
       "      <td>Manhattan Murder Mystery</td>\n",
       "      <td>7.2</td>\n",
       "      <td>223</td>\n",
       "      <td>tt0107507</td>\n",
       "    </tr>\n",
       "    <tr>\n",
       "      <th>1000</th>\n",
       "      <td>[18]</td>\n",
       "      <td>317557</td>\n",
       "      <td>A young girl overcomes her disadvantaged upbri...</td>\n",
       "      <td>5.595859</td>\n",
       "      <td>2016-09-23</td>\n",
       "      <td>Queen of Katwe</td>\n",
       "      <td>7.2</td>\n",
       "      <td>138</td>\n",
       "      <td>tt4341582</td>\n",
       "    </tr>\n",
       "  </tbody>\n",
       "</table>\n",
       "</div>"
      ],
      "text/plain": [
       "            genre_ids      id  \\\n",
       "996    [27, 9648, 53]    2654   \n",
       "997   [27, 9648, 878]     837   \n",
       "998              [18]  205601   \n",
       "999        [35, 9648]   10440   \n",
       "1000             [18]  317557   \n",
       "\n",
       "                                               overview  popularity  \\\n",
       "996   With the disappearance of hack horror writer S...   10.361558   \n",
       "997   A sleazy cable-TV programmer begins to see his...    7.721037   \n",
       "998   BELLE is inspired by the true story of Dido El...   12.822260   \n",
       "999   A middle-aged couple suspects foul play when t...    6.992721   \n",
       "1000  A young girl overcomes her disadvantaged upbri...    5.595859   \n",
       "\n",
       "     release_date                     title  vote_average  vote_count  \\\n",
       "996    1994-12-12   In the Mouth of Madness           7.2         405   \n",
       "997    1983-02-04                Videodrome           7.2         600   \n",
       "998    2013-09-08                     Belle           7.2         285   \n",
       "999    1993-08-18  Manhattan Murder Mystery           7.2         223   \n",
       "1000   2016-09-23            Queen of Katwe           7.2         138   \n",
       "\n",
       "        imdb_id  \n",
       "996   tt0113409  \n",
       "997   tt0086541  \n",
       "998   tt2404181  \n",
       "999   tt0107507  \n",
       "1000  tt4341582  "
      ]
     },
     "execution_count": 91,
     "metadata": {},
     "output_type": "execute_result"
    }
   ],
   "source": [
    "df.tail()"
   ]
  },
  {
   "cell_type": "code",
   "execution_count": 92,
   "metadata": {},
   "outputs": [
    {
     "data": {
      "text/html": [
       "<div>\n",
       "<style scoped>\n",
       "    .dataframe tbody tr th:only-of-type {\n",
       "        vertical-align: middle;\n",
       "    }\n",
       "\n",
       "    .dataframe tbody tr th {\n",
       "        vertical-align: top;\n",
       "    }\n",
       "\n",
       "    .dataframe thead th {\n",
       "        text-align: right;\n",
       "    }\n",
       "</style>\n",
       "<table border=\"1\" class=\"dataframe\">\n",
       "  <thead>\n",
       "    <tr style=\"text-align: right;\">\n",
       "      <th></th>\n",
       "      <th>genre_ids</th>\n",
       "      <th>id</th>\n",
       "      <th>overview</th>\n",
       "      <th>popularity</th>\n",
       "      <th>release_date</th>\n",
       "      <th>title</th>\n",
       "      <th>vote_average</th>\n",
       "      <th>vote_count</th>\n",
       "      <th>imdb_id</th>\n",
       "    </tr>\n",
       "  </thead>\n",
       "  <tbody>\n",
       "    <tr>\n",
       "      <th>0</th>\n",
       "      <td>[18, 80]</td>\n",
       "      <td>278</td>\n",
       "      <td>Framed in the 1940s for the double murder of h...</td>\n",
       "      <td>28.527767</td>\n",
       "      <td>1994-09-23</td>\n",
       "      <td>The Shawshank Redemption</td>\n",
       "      <td>8.5</td>\n",
       "      <td>9773</td>\n",
       "      <td>tt0111161</td>\n",
       "    </tr>\n",
       "    <tr>\n",
       "      <th>1</th>\n",
       "      <td>[18, 80]</td>\n",
       "      <td>238</td>\n",
       "      <td>Spanning the years 1945 to 1955, a chronicle o...</td>\n",
       "      <td>36.965452</td>\n",
       "      <td>1972-03-14</td>\n",
       "      <td>The Godfather</td>\n",
       "      <td>8.5</td>\n",
       "      <td>7394</td>\n",
       "      <td>tt0068646</td>\n",
       "    </tr>\n",
       "    <tr>\n",
       "      <th>2</th>\n",
       "      <td>[18, 36, 10752]</td>\n",
       "      <td>424</td>\n",
       "      <td>The true story of how businessman Oskar Schind...</td>\n",
       "      <td>19.945455</td>\n",
       "      <td>1993-11-29</td>\n",
       "      <td>Schindler's List</td>\n",
       "      <td>8.4</td>\n",
       "      <td>5518</td>\n",
       "      <td>tt0108052</td>\n",
       "    </tr>\n",
       "    <tr>\n",
       "      <th>3</th>\n",
       "      <td>[18, 80]</td>\n",
       "      <td>240</td>\n",
       "      <td>In the continuing saga of the Corleone crime f...</td>\n",
       "      <td>30.191804</td>\n",
       "      <td>1974-12-20</td>\n",
       "      <td>The Godfather: Part II</td>\n",
       "      <td>8.4</td>\n",
       "      <td>4249</td>\n",
       "      <td>tt0071562</td>\n",
       "    </tr>\n",
       "    <tr>\n",
       "      <th>4</th>\n",
       "      <td>[18, 9648]</td>\n",
       "      <td>452522</td>\n",
       "      <td>Standalone version of the series pilot with an...</td>\n",
       "      <td>5.969249</td>\n",
       "      <td>1989-12-31</td>\n",
       "      <td>Twin Peaks</td>\n",
       "      <td>8.4</td>\n",
       "      <td>123</td>\n",
       "      <td>tt0278784</td>\n",
       "    </tr>\n",
       "  </tbody>\n",
       "</table>\n",
       "</div>"
      ],
      "text/plain": [
       "         genre_ids      id                                           overview  \\\n",
       "0         [18, 80]     278  Framed in the 1940s for the double murder of h...   \n",
       "1         [18, 80]     238  Spanning the years 1945 to 1955, a chronicle o...   \n",
       "2  [18, 36, 10752]     424  The true story of how businessman Oskar Schind...   \n",
       "3         [18, 80]     240  In the continuing saga of the Corleone crime f...   \n",
       "4       [18, 9648]  452522  Standalone version of the series pilot with an...   \n",
       "\n",
       "   popularity release_date                     title  vote_average  \\\n",
       "0   28.527767   1994-09-23  The Shawshank Redemption           8.5   \n",
       "1   36.965452   1972-03-14             The Godfather           8.5   \n",
       "2   19.945455   1993-11-29          Schindler's List           8.4   \n",
       "3   30.191804   1974-12-20    The Godfather: Part II           8.4   \n",
       "4    5.969249   1989-12-31                Twin Peaks           8.4   \n",
       "\n",
       "   vote_count    imdb_id  \n",
       "0        9773  tt0111161  \n",
       "1        7394  tt0068646  \n",
       "2        5518  tt0108052  \n",
       "3        4249  tt0071562  \n",
       "4         123  tt0278784  "
      ]
     },
     "execution_count": 92,
     "metadata": {},
     "output_type": "execute_result"
    }
   ],
   "source": [
    "df.head()"
   ]
  },
  {
   "cell_type": "markdown",
   "metadata": {},
   "source": [
    "#### Vectorize genres based on TMDB genres"
   ]
  },
  {
   "cell_type": "code",
   "execution_count": 93,
   "metadata": {},
   "outputs": [],
   "source": [
    "#request list of TMDB genres\n",
    "key = open('key.txt','r').read()\n",
    "payload = '{}'\n",
    "url = \"https://api.themoviedb.org/3/genre/movie/list?api_key={0}&language=en-US&page={1}\".format(key, str(1))\n",
    "response = requests.request(\"GET\", url, data=payload).json()\n",
    "\n",
    "genreDict = dict(zip([i['id'] for i in response['genres']],\n",
    "                     [i['name'] for i in response['genres']]))\n",
    "genreDict\n",
    "genres = list(genreDict.keys())"
   ]
  },
  {
   "cell_type": "code",
   "execution_count": 94,
   "metadata": {},
   "outputs": [
    {
     "data": {
      "text/plain": [
       "{12: 'Adventure',\n",
       " 14: 'Fantasy',\n",
       " 16: 'Animation',\n",
       " 18: 'Drama',\n",
       " 27: 'Horror',\n",
       " 28: 'Action',\n",
       " 35: 'Comedy',\n",
       " 36: 'History',\n",
       " 37: 'Western',\n",
       " 53: 'Thriller',\n",
       " 80: 'Crime',\n",
       " 99: 'Documentary',\n",
       " 878: 'Science Fiction',\n",
       " 9648: 'Mystery',\n",
       " 10402: 'Music',\n",
       " 10749: 'Romance',\n",
       " 10751: 'Family',\n",
       " 10752: 'War',\n",
       " 10770: 'TV Movie'}"
      ]
     },
     "execution_count": 94,
     "metadata": {},
     "output_type": "execute_result"
    }
   ],
   "source": [
    "genreDict"
   ]
  },
  {
   "cell_type": "code",
   "execution_count": 95,
   "metadata": {},
   "outputs": [
    {
     "data": {
      "text/html": [
       "<div>\n",
       "<style scoped>\n",
       "    .dataframe tbody tr th:only-of-type {\n",
       "        vertical-align: middle;\n",
       "    }\n",
       "\n",
       "    .dataframe tbody tr th {\n",
       "        vertical-align: top;\n",
       "    }\n",
       "\n",
       "    .dataframe thead th {\n",
       "        text-align: right;\n",
       "    }\n",
       "</style>\n",
       "<table border=\"1\" class=\"dataframe\">\n",
       "  <thead>\n",
       "    <tr style=\"text-align: right;\">\n",
       "      <th></th>\n",
       "      <th>genre_ids</th>\n",
       "      <th>id</th>\n",
       "      <th>overview</th>\n",
       "      <th>popularity</th>\n",
       "      <th>release_date</th>\n",
       "      <th>title</th>\n",
       "      <th>vote_average</th>\n",
       "      <th>vote_count</th>\n",
       "      <th>imdb_id</th>\n",
       "      <th>binary_genre</th>\n",
       "    </tr>\n",
       "  </thead>\n",
       "  <tbody>\n",
       "    <tr>\n",
       "      <th>996</th>\n",
       "      <td>[27, 9648, 53]</td>\n",
       "      <td>2654</td>\n",
       "      <td>With the disappearance of hack horror writer S...</td>\n",
       "      <td>10.361558</td>\n",
       "      <td>1994-12-12</td>\n",
       "      <td>In the Mouth of Madness</td>\n",
       "      <td>7.2</td>\n",
       "      <td>405</td>\n",
       "      <td>tt0113409</td>\n",
       "      <td>[0, 0, 0, 0, 1, 0, 0, 0, 0, 0, 0, 1, 1, 0, 0, ...</td>\n",
       "    </tr>\n",
       "    <tr>\n",
       "      <th>997</th>\n",
       "      <td>[27, 9648, 878]</td>\n",
       "      <td>837</td>\n",
       "      <td>A sleazy cable-TV programmer begins to see his...</td>\n",
       "      <td>7.721037</td>\n",
       "      <td>1983-02-04</td>\n",
       "      <td>Videodrome</td>\n",
       "      <td>7.2</td>\n",
       "      <td>600</td>\n",
       "      <td>tt0086541</td>\n",
       "      <td>[0, 0, 0, 1, 0, 0, 0, 0, 0, 0, 0, 0, 0, 0, 0, ...</td>\n",
       "    </tr>\n",
       "    <tr>\n",
       "      <th>998</th>\n",
       "      <td>[18]</td>\n",
       "      <td>205601</td>\n",
       "      <td>BELLE is inspired by the true story of Dido El...</td>\n",
       "      <td>12.822260</td>\n",
       "      <td>2013-09-08</td>\n",
       "      <td>Belle</td>\n",
       "      <td>7.2</td>\n",
       "      <td>285</td>\n",
       "      <td>tt2404181</td>\n",
       "      <td>[0, 0, 0, 0, 0, 0, 1, 0, 0, 0, 0, 0, 1, 0, 0, ...</td>\n",
       "    </tr>\n",
       "    <tr>\n",
       "      <th>999</th>\n",
       "      <td>[35, 9648]</td>\n",
       "      <td>10440</td>\n",
       "      <td>A middle-aged couple suspects foul play when t...</td>\n",
       "      <td>6.992721</td>\n",
       "      <td>1993-08-18</td>\n",
       "      <td>Manhattan Murder Mystery</td>\n",
       "      <td>7.2</td>\n",
       "      <td>223</td>\n",
       "      <td>tt0107507</td>\n",
       "      <td>[0, 0, 0, 1, 0, 0, 0, 0, 0, 0, 0, 0, 0, 0, 0, ...</td>\n",
       "    </tr>\n",
       "    <tr>\n",
       "      <th>1000</th>\n",
       "      <td>[18]</td>\n",
       "      <td>317557</td>\n",
       "      <td>A young girl overcomes her disadvantaged upbri...</td>\n",
       "      <td>5.595859</td>\n",
       "      <td>2016-09-23</td>\n",
       "      <td>Queen of Katwe</td>\n",
       "      <td>7.2</td>\n",
       "      <td>138</td>\n",
       "      <td>tt4341582</td>\n",
       "      <td>NaN</td>\n",
       "    </tr>\n",
       "  </tbody>\n",
       "</table>\n",
       "</div>"
      ],
      "text/plain": [
       "            genre_ids      id  \\\n",
       "996    [27, 9648, 53]    2654   \n",
       "997   [27, 9648, 878]     837   \n",
       "998              [18]  205601   \n",
       "999        [35, 9648]   10440   \n",
       "1000             [18]  317557   \n",
       "\n",
       "                                               overview  popularity  \\\n",
       "996   With the disappearance of hack horror writer S...   10.361558   \n",
       "997   A sleazy cable-TV programmer begins to see his...    7.721037   \n",
       "998   BELLE is inspired by the true story of Dido El...   12.822260   \n",
       "999   A middle-aged couple suspects foul play when t...    6.992721   \n",
       "1000  A young girl overcomes her disadvantaged upbri...    5.595859   \n",
       "\n",
       "     release_date                     title  vote_average  vote_count  \\\n",
       "996    1994-12-12   In the Mouth of Madness           7.2         405   \n",
       "997    1983-02-04                Videodrome           7.2         600   \n",
       "998    2013-09-08                     Belle           7.2         285   \n",
       "999    1993-08-18  Manhattan Murder Mystery           7.2         223   \n",
       "1000   2016-09-23            Queen of Katwe           7.2         138   \n",
       "\n",
       "        imdb_id                                       binary_genre  \n",
       "996   tt0113409  [0, 0, 0, 0, 1, 0, 0, 0, 0, 0, 0, 1, 1, 0, 0, ...  \n",
       "997   tt0086541  [0, 0, 0, 1, 0, 0, 0, 0, 0, 0, 0, 0, 0, 0, 0, ...  \n",
       "998   tt2404181  [0, 0, 0, 0, 0, 0, 1, 0, 0, 0, 0, 0, 1, 0, 0, ...  \n",
       "999   tt0107507  [0, 0, 0, 1, 0, 0, 0, 0, 0, 0, 0, 0, 0, 0, 0, ...  \n",
       "1000  tt4341582                                                NaN  "
      ]
     },
     "execution_count": 95,
     "metadata": {},
     "output_type": "execute_result"
    }
   ],
   "source": [
    "#use multilabelbinarizer on genre column and add new column 'binary_genre' of genre vectors\n",
    "mlb=MultiLabelBinarizer()\n",
    "\n",
    "df['binary_genre'] = pd.Series(list(mlb.fit_transform(df['genre_ids'])))\n",
    "df.tail()"
   ]
  },
  {
   "cell_type": "code",
   "execution_count": 97,
   "metadata": {},
   "outputs": [
    {
     "data": {
      "text/plain": [
       "array([0, 0, 0, 0, 0, 0, 1, 0, 0, 0, 0, 0, 1, 0, 0, 0, 0, 0])"
      ]
     },
     "execution_count": 97,
     "metadata": {},
     "output_type": "execute_result"
    }
   ],
   "source": [
    "df.iloc[997]['binary_genre']"
   ]
  },
  {
   "cell_type": "code",
   "execution_count": 60,
   "metadata": {
    "collapsed": true
   },
   "outputs": [],
   "source": [
    "from sklearn.model_selection import train_test_split\n",
    "\n",
    "train, test = train_test_split(df, test_size=0.5, random_state=9001)"
   ]
  },
  {
   "cell_type": "markdown",
   "metadata": {},
   "source": [
    "# Natural Language Processing\n",
    "\n",
    "We will be using a few sklearn functions to assist in this portion\n",
    "\n",
    "**CountVectorizer**\n",
    "\n",
    "This creates a Document-Term matrix with the dimensions [n_samples, n_features]\n",
    "\n",
    "**TfidfTransformer**\n",
    "\n",
    "TF stands for *Term Frequency*. It is the count of each word divided by the toal words in the document. TFIDF stands for *Term Frequency Times Inverse Document Frequency*. This function reduces the weights of common words, such as (this, is, an, etc.)\n",
    "\n",
    "**Pipeline**\n",
    "This allows us to make multiple manipulations to our data in a single line of code. It makes our code more concise.\n",
    "\n"
   ]
  },
  {
   "cell_type": "markdown",
   "metadata": {},
   "source": [
    "#### Clean up overviews\n",
    "remove punctuation"
   ]
  },
  {
   "cell_type": "code",
   "execution_count": 98,
   "metadata": {},
   "outputs": [
    {
     "data": {
      "text/plain": [
       "'Framed in the 1940s for the double murder of his wife and her lover, upstanding banker Andy Dufresne begins a new life at the Shawshank prison, where he puts his accounting skills to work for an amoral warden. During his long stretch in prison, Dufresne comes to be admired by the other inmates -- including an older prisoner named Red -- for his integrity and unquenchable sense of hope.'"
      ]
     },
     "execution_count": 98,
     "metadata": {},
     "output_type": "execute_result"
    }
   ],
   "source": [
    "df.iloc[0].overview"
   ]
  },
  {
   "cell_type": "code",
   "execution_count": 108,
   "metadata": {},
   "outputs": [],
   "source": [
    "\n",
    "clean_overviews = []\n",
    "\n",
    "stopwords = set(stopwords.words('english'))\n",
    "\n",
    "for i in range(len(df)):\n",
    "    movie = df.iloc[i]\n",
    "    overview = movie['overview']\n",
    "    overview = overview.replace(',','')\n",
    "    overview = overview.replace('.','')\n",
    "    overview = overview.replace(\"'\", '')\n",
    "    overview = overview.replace('\"', '')\n",
    "    for word in overview:\n",
    "        if word not in stopwords:\n",
    "            out.append(word)\n",
    "    clean_overviews.append(overview)\n",
    "\n",
    "df['clean_overviews'] = pd.Series(clean_overviews)"
   ]
  },
  {
   "cell_type": "code",
   "execution_count": 111,
   "metadata": {},
   "outputs": [
    {
     "data": {
      "text/html": [
       "<div>\n",
       "<style scoped>\n",
       "    .dataframe tbody tr th:only-of-type {\n",
       "        vertical-align: middle;\n",
       "    }\n",
       "\n",
       "    .dataframe tbody tr th {\n",
       "        vertical-align: top;\n",
       "    }\n",
       "\n",
       "    .dataframe thead th {\n",
       "        text-align: right;\n",
       "    }\n",
       "</style>\n",
       "<table border=\"1\" class=\"dataframe\">\n",
       "  <thead>\n",
       "    <tr style=\"text-align: right;\">\n",
       "      <th></th>\n",
       "      <th>genre_ids</th>\n",
       "      <th>id</th>\n",
       "      <th>overview</th>\n",
       "      <th>popularity</th>\n",
       "      <th>release_date</th>\n",
       "      <th>title</th>\n",
       "      <th>vote_average</th>\n",
       "      <th>vote_count</th>\n",
       "      <th>imdb_id</th>\n",
       "      <th>binary_genre</th>\n",
       "      <th>clean_overviews</th>\n",
       "    </tr>\n",
       "  </thead>\n",
       "  <tbody>\n",
       "    <tr>\n",
       "      <th>0</th>\n",
       "      <td>[18, 80]</td>\n",
       "      <td>278</td>\n",
       "      <td>Framed in the 1940s for the double murder of h...</td>\n",
       "      <td>28.527767</td>\n",
       "      <td>1994-09-23</td>\n",
       "      <td>The Shawshank Redemption</td>\n",
       "      <td>8.5</td>\n",
       "      <td>9773</td>\n",
       "      <td>tt0111161</td>\n",
       "      <td>[0, 0, 0, 1, 0, 0, 0, 0, 0, 0, 1, 0, 0, 0, 0, ...</td>\n",
       "      <td>Framed in the 1940s for the double murder of h...</td>\n",
       "    </tr>\n",
       "    <tr>\n",
       "      <th>1</th>\n",
       "      <td>[18, 80]</td>\n",
       "      <td>238</td>\n",
       "      <td>Spanning the years 1945 to 1955, a chronicle o...</td>\n",
       "      <td>36.965452</td>\n",
       "      <td>1972-03-14</td>\n",
       "      <td>The Godfather</td>\n",
       "      <td>8.5</td>\n",
       "      <td>7394</td>\n",
       "      <td>tt0068646</td>\n",
       "      <td>[0, 0, 0, 1, 0, 0, 0, 0, 0, 0, 1, 0, 0, 0, 0, ...</td>\n",
       "      <td>Spanning the years 1945 to 1955 a chronicle of...</td>\n",
       "    </tr>\n",
       "    <tr>\n",
       "      <th>2</th>\n",
       "      <td>[18, 36, 10752]</td>\n",
       "      <td>424</td>\n",
       "      <td>The true story of how businessman Oskar Schind...</td>\n",
       "      <td>19.945455</td>\n",
       "      <td>1993-11-29</td>\n",
       "      <td>Schindler's List</td>\n",
       "      <td>8.4</td>\n",
       "      <td>5518</td>\n",
       "      <td>tt0108052</td>\n",
       "      <td>[0, 0, 0, 1, 0, 0, 0, 1, 0, 0, 0, 0, 0, 0, 0, ...</td>\n",
       "      <td>The true story of how businessman Oskar Schind...</td>\n",
       "    </tr>\n",
       "    <tr>\n",
       "      <th>3</th>\n",
       "      <td>[18, 80]</td>\n",
       "      <td>240</td>\n",
       "      <td>In the continuing saga of the Corleone crime f...</td>\n",
       "      <td>30.191804</td>\n",
       "      <td>1974-12-20</td>\n",
       "      <td>The Godfather: Part II</td>\n",
       "      <td>8.4</td>\n",
       "      <td>4249</td>\n",
       "      <td>tt0071562</td>\n",
       "      <td>[0, 0, 0, 1, 0, 0, 0, 0, 0, 0, 1, 0, 0, 0, 0, ...</td>\n",
       "      <td>In the continuing saga of the Corleone crime f...</td>\n",
       "    </tr>\n",
       "    <tr>\n",
       "      <th>4</th>\n",
       "      <td>[18, 9648]</td>\n",
       "      <td>452522</td>\n",
       "      <td>Standalone version of the series pilot with an...</td>\n",
       "      <td>5.969249</td>\n",
       "      <td>1989-12-31</td>\n",
       "      <td>Twin Peaks</td>\n",
       "      <td>8.4</td>\n",
       "      <td>123</td>\n",
       "      <td>tt0278784</td>\n",
       "      <td>[0, 0, 0, 1, 0, 0, 0, 0, 0, 0, 0, 0, 1, 0, 0, ...</td>\n",
       "      <td>Standalone version of the series pilot with an...</td>\n",
       "    </tr>\n",
       "  </tbody>\n",
       "</table>\n",
       "</div>"
      ],
      "text/plain": [
       "         genre_ids      id                                           overview  \\\n",
       "0         [18, 80]     278  Framed in the 1940s for the double murder of h...   \n",
       "1         [18, 80]     238  Spanning the years 1945 to 1955, a chronicle o...   \n",
       "2  [18, 36, 10752]     424  The true story of how businessman Oskar Schind...   \n",
       "3         [18, 80]     240  In the continuing saga of the Corleone crime f...   \n",
       "4       [18, 9648]  452522  Standalone version of the series pilot with an...   \n",
       "\n",
       "   popularity release_date                     title  vote_average  \\\n",
       "0   28.527767   1994-09-23  The Shawshank Redemption           8.5   \n",
       "1   36.965452   1972-03-14             The Godfather           8.5   \n",
       "2   19.945455   1993-11-29          Schindler's List           8.4   \n",
       "3   30.191804   1974-12-20    The Godfather: Part II           8.4   \n",
       "4    5.969249   1989-12-31                Twin Peaks           8.4   \n",
       "\n",
       "   vote_count    imdb_id                                       binary_genre  \\\n",
       "0        9773  tt0111161  [0, 0, 0, 1, 0, 0, 0, 0, 0, 0, 1, 0, 0, 0, 0, ...   \n",
       "1        7394  tt0068646  [0, 0, 0, 1, 0, 0, 0, 0, 0, 0, 1, 0, 0, 0, 0, ...   \n",
       "2        5518  tt0108052  [0, 0, 0, 1, 0, 0, 0, 1, 0, 0, 0, 0, 0, 0, 0, ...   \n",
       "3        4249  tt0071562  [0, 0, 0, 1, 0, 0, 0, 0, 0, 0, 1, 0, 0, 0, 0, ...   \n",
       "4         123  tt0278784  [0, 0, 0, 1, 0, 0, 0, 0, 0, 0, 0, 0, 1, 0, 0, ...   \n",
       "\n",
       "                                     clean_overviews  \n",
       "0  Framed in the 1940s for the double murder of h...  \n",
       "1  Spanning the years 1945 to 1955 a chronicle of...  \n",
       "2  The true story of how businessman Oskar Schind...  \n",
       "3  In the continuing saga of the Corleone crime f...  \n",
       "4  Standalone version of the series pilot with an...  "
      ]
     },
     "execution_count": 111,
     "metadata": {},
     "output_type": "execute_result"
    }
   ],
   "source": [
    "df.head()"
   ]
  },
  {
   "cell_type": "code",
   "execution_count": 101,
   "metadata": {
    "collapsed": true
   },
   "outputs": [],
   "source": [
    "from sklearn.feature_extraction.text import CountVectorizer\n",
    "from sklearn.feature_extraction.text import TfidfTransformer\n",
    "from sklearn.pipeline import Pipeline"
   ]
  },
  {
   "cell_type": "markdown",
   "metadata": {},
   "source": [
    "**Naive Bayes Classifier**"
   ]
  },
  {
   "cell_type": "code",
   "execution_count": 105,
   "metadata": {},
   "outputs": [
    {
     "name": "stdout",
     "output_type": "stream",
     "text": [
      "Train Accuracy: 0.334 \n",
      "Test Accuracy: 0.372\n"
     ]
    },
    {
     "name": "stderr",
     "output_type": "stream",
     "text": [
      "C:\\Users\\A706GZZ\\Documents\\Anaconda\\lib\\site-packages\\sklearn\\feature_extraction\\text.py:1059: FutureWarning: Conversion of the second argument of issubdtype from `float` to `np.floating` is deprecated. In future, it will be treated as `np.float64 == np.dtype(float).type`.\n",
      "  if hasattr(X, 'dtype') and np.issubdtype(X.dtype, np.float):\n"
     ]
    }
   ],
   "source": [
    "from sklearn.naive_bayes import MultinomialNB\n",
    "\n",
    "\n",
    "text_clf = Pipeline([('vect', CountVectorizer()),\n",
    "                    ('tfidf', TfidfTransformer()),\n",
    "                    ('clf', MultinomialNB()),])\n",
    "\n",
    "text_clf = text_clf.fit(train['overview'], train['first_genre'])\n",
    "nb_train_predict = text_clf.predict(train['overview'])\n",
    "nb_test_predict = text_clf.predict(test['overview'])\n",
    "\n",
    "nb_train_accuracy = np.mean(nb_train_predict == train['first_genre'])\n",
    "nb_test_accuracy = np.mean(nb_test_predict == test['first_genre'])\n",
    "\n",
    "print(\"Train Accuracy: {0} \\nTest Accuracy: {1}\".format(nb_train_accuracy,nb_test_accuracy))"
   ]
  },
  {
   "cell_type": "markdown",
   "metadata": {},
   "source": [
    "**Support Vector Machines (SVM)**"
   ]
  },
  {
   "cell_type": "code",
   "execution_count": 87,
   "metadata": {
    "collapsed": true
   },
   "outputs": [],
   "source": [
    "from sklearn.linear_model import SGDClassifier"
   ]
  },
  {
   "cell_type": "code",
   "execution_count": 109,
   "metadata": {
    "scrolled": true
   },
   "outputs": [
    {
     "name": "stderr",
     "output_type": "stream",
     "text": [
      "C:\\Users\\A706GZZ\\Documents\\Anaconda\\lib\\site-packages\\sklearn\\feature_extraction\\text.py:1059: FutureWarning: Conversion of the second argument of issubdtype from `float` to `np.floating` is deprecated. In future, it will be treated as `np.float64 == np.dtype(float).type`.\n",
      "  if hasattr(X, 'dtype') and np.issubdtype(X.dtype, np.float):\n"
     ]
    },
    {
     "name": "stdout",
     "output_type": "stream",
     "text": [
      "Train Accuracy: 1.0 \n",
      "Test Accuracy: 0.364\n"
     ]
    }
   ],
   "source": [
    "text_clf_svm = Pipeline([('vect', CountVectorizer()),\n",
    "                      ('tfidf', TfidfTransformer()),\n",
    "                      ('clf-svm', SGDClassifier(loss='hinge', penalty='l2',\n",
    "                                            alpha=1e-3, n_iter=5, random_state=42)),\n",
    "])\n",
    "_ = text_clf_svm.fit(train['overview'], train['first_genre'])\n",
    "\n",
    "svm_train_predict = text_clf_svm.predict(train['overview'])\n",
    "svm_test_predict = text_clf_svm.predict(test['overview'])\n",
    "\n",
    "svm_train_accuracy = np.mean(svm_train_predict == train['first_genre'])\n",
    "svm_test_accuracy = np.mean(svm_test_predict == test['first_genre'])\n",
    "\n",
    "print(\"Train Accuracy: {0} \\nTest Accuracy: {1}\".format(svm_train_accuracy,svm_test_accuracy))"
   ]
  },
  {
   "cell_type": "markdown",
   "metadata": {},
   "source": [
    "It looks like extreme over-fitting is occuring                                   "
   ]
  },
  {
   "cell_type": "markdown",
   "metadata": {},
   "source": [
    "**Grid Search Cross Validation**"
   ]
  },
  {
   "cell_type": "code",
   "execution_count": 94,
   "metadata": {
    "collapsed": true
   },
   "outputs": [],
   "source": [
    "from sklearn.model_selection import GridSearchCV\n",
    "\n",
    "parameters = {'vect__ngram_range': [(1, 1), (1, 2)],\n",
    "               'tfidf__use_idf': (True, False),\n",
    "               'clf__alpha': (1e-2, 1e-3),\n",
    " }"
   ]
  },
  {
   "cell_type": "code",
   "execution_count": 110,
   "metadata": {},
   "outputs": [
    {
     "name": "stderr",
     "output_type": "stream",
     "text": [
      "C:\\Users\\A706GZZ\\Documents\\Anaconda\\lib\\site-packages\\sklearn\\feature_extraction\\text.py:1059: FutureWarning: Conversion of the second argument of issubdtype from `float` to `np.floating` is deprecated. In future, it will be treated as `np.float64 == np.dtype(float).type`.\n",
      "  if hasattr(X, 'dtype') and np.issubdtype(X.dtype, np.float):\n"
     ]
    }
   ],
   "source": [
    "gs_clf = GridSearchCV(text_clf, parameters, n_jobs=-1)\n",
    "gs_clf = gs_clf.fit(train['overview'], train['first_genre'])"
   ]
  },
  {
   "cell_type": "code",
   "execution_count": 113,
   "metadata": {},
   "outputs": [
    {
     "data": {
      "text/plain": [
       "0.338"
      ]
     },
     "execution_count": 113,
     "metadata": {},
     "output_type": "execute_result"
    }
   ],
   "source": [
    "gs_clf.best_score_\n"
   ]
  },
  {
   "cell_type": "code",
   "execution_count": 116,
   "metadata": {},
   "outputs": [
    {
     "data": {
      "text/plain": [
       "{'clf__alpha': 0.01, 'tfidf__use_idf': True, 'vect__ngram_range': (1, 1)}"
      ]
     },
     "execution_count": 116,
     "metadata": {},
     "output_type": "execute_result"
    }
   ],
   "source": [
    "gs_clf.best_params_"
   ]
  },
  {
   "cell_type": "markdown",
   "metadata": {},
   "source": [
    "**Removing Stop Words - Naive Bayes**"
   ]
  },
  {
   "cell_type": "code",
   "execution_count": 119,
   "metadata": {},
   "outputs": [
    {
     "name": "stdout",
     "output_type": "stream",
     "text": [
      "Train Accuracy: 0.376 \n",
      "Test Accuracy: 0.372\n"
     ]
    },
    {
     "name": "stderr",
     "output_type": "stream",
     "text": [
      "C:\\Users\\A706GZZ\\Documents\\Anaconda\\lib\\site-packages\\sklearn\\feature_extraction\\text.py:1059: FutureWarning: Conversion of the second argument of issubdtype from `float` to `np.floating` is deprecated. In future, it will be treated as `np.float64 == np.dtype(float).type`.\n",
      "  if hasattr(X, 'dtype') and np.issubdtype(X.dtype, np.float):\n"
     ]
    }
   ],
   "source": [
    "text_clf = Pipeline([('vect', CountVectorizer(stop_words='english')),\n",
    "                    ('tfidf', TfidfTransformer()),\n",
    "                    ('clf', MultinomialNB()),])\n",
    "\n",
    "text_clf = text_clf.fit(train['overview'], train['first_genre'])\n",
    "nb_train_predict = text_clf.predict(train['overview'])\n",
    "nb_test_predict = text_clf.predict(test['overview'])\n",
    "\n",
    "nb_train_accuracy = np.mean(nb_train_predict == train['first_genre'])\n",
    "nb_test_accuracy = np.mean(nb_test_predict == test['first_genre'])\n",
    "\n",
    "print(\"Train Accuracy: {0} \\nTest Accuracy: {1}\".format(nb_train_accuracy,nb_test_accuracy))"
   ]
  },
  {
   "cell_type": "markdown",
   "metadata": {},
   "source": [
    "**Removing Stop Words - Support Vector Machines**"
   ]
  },
  {
   "cell_type": "code",
   "execution_count": 114,
   "metadata": {},
   "outputs": [
    {
     "name": "stdout",
     "output_type": "stream",
     "text": [
      "Train Accuracy: 1.0 \n",
      "Test Accuracy: 0.352\n"
     ]
    },
    {
     "name": "stderr",
     "output_type": "stream",
     "text": [
      "C:\\Users\\A706GZZ\\Documents\\Anaconda\\lib\\site-packages\\sklearn\\feature_extraction\\text.py:1059: FutureWarning: Conversion of the second argument of issubdtype from `float` to `np.floating` is deprecated. In future, it will be treated as `np.float64 == np.dtype(float).type`.\n",
      "  if hasattr(X, 'dtype') and np.issubdtype(X.dtype, np.float):\n"
     ]
    }
   ],
   "source": [
    "text_clf_svm = Pipeline([('vect', CountVectorizer(stop_words='english')),\n",
    "                      ('tfidf', TfidfTransformer()),\n",
    "                      ('clf-svm', SGDClassifier(loss='hinge', penalty='l2',\n",
    "                                            alpha=1e-3, n_iter=5, random_state=42)),\n",
    "])\n",
    "_ = text_clf_svm.fit(train['overview'], train['first_genre'])\n",
    "\n",
    "svm_train_predict = text_clf_svm.predict(train['overview'])\n",
    "svm_test_predict = text_clf_svm.predict(test['overview'])\n",
    "\n",
    "svm_train_accuracy = np.mean(svm_train_predict == train['first_genre'])\n",
    "svm_test_accuracy = np.mean(svm_test_predict == test['first_genre'])\n",
    "\n",
    "print(\"Train Accuracy: {0} \\nTest Accuracy: {1}\".format(svm_train_accuracy,svm_test_accuracy))"
   ]
  },
  {
   "cell_type": "code",
   "execution_count": null,
   "metadata": {
    "collapsed": true
   },
   "outputs": [],
   "source": []
  }
 ],
 "metadata": {
  "kernelspec": {
   "display_name": "Python 3",
   "language": "python",
   "name": "python3"
  },
  "language_info": {
   "codemirror_mode": {
    "name": "ipython",
    "version": 3
   },
   "file_extension": ".py",
   "mimetype": "text/x-python",
   "name": "python",
   "nbconvert_exporter": "python",
   "pygments_lexer": "ipython3",
   "version": "3.6.4"
  }
 },
 "nbformat": 4,
 "nbformat_minor": 2
}
